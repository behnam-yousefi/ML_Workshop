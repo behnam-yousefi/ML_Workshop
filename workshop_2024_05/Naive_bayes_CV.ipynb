{
 "cells": [
  {
   "cell_type": "code",
   "execution_count": 19,
   "id": "71ff233b-ab74-4816-90ce-ca1aab6688ef",
   "metadata": {},
   "outputs": [],
   "source": [
    "from sklearn.datasets import load_breast_cancer\n",
    "from sklearn.naive_bayes import GaussianNB\n",
    "from sklearn.model_selection import train_test_split\n",
    "from sklearn import metrics\n",
    "import matplotlib.pyplot as plt\n",
    "import pandas as pd"
   ]
  },
  {
   "cell_type": "code",
   "execution_count": 3,
   "id": "7e1868fe-2cfb-4199-9668-1043a2dd1e2d",
   "metadata": {},
   "outputs": [],
   "source": [
    "def classification_metrics(target, pred):\n",
    "    tn, fp, fn, tp = metrics.confusion_matrix(target, pred).ravel()\n",
    "    acc = (tp + tn) / (tn + fp + fn + tp)\n",
    "    sen = tp / (tp + fn)\n",
    "    spc = tn / (tn + fp)\n",
    "    prc = tp / (tp + fp)\n",
    "    return acc, sen, spc, prc"
   ]
  },
  {
   "cell_type": "code",
   "execution_count": 4,
   "id": "09640db7-c020-4f01-9cd3-d76b8b970444",
   "metadata": {},
   "outputs": [
    {
     "data": {
      "text/plain": [
       "((569, 30), (569,))"
      ]
     },
     "execution_count": 4,
     "metadata": {},
     "output_type": "execute_result"
    }
   ],
   "source": [
    "data = load_breast_cancer()\n",
    "X, y = data['data'], data['target']\n",
    "X.shape, y.shape"
   ]
  },
  {
   "cell_type": "code",
   "execution_count": 20,
   "id": "20532b35-677a-439c-8861-14c04b28b5c7",
   "metadata": {},
   "outputs": [],
   "source": [
    "rep = 100\n",
    "result_df = pd.DataFrame(columns=['acc', 'sen', 'spc', 'prc', 'auc'])\n",
    "\n",
    "for i in range(rep):\n",
    "\n",
    "    X_train, X_test, y_train, y_test = train_test_split(X, y)\n",
    "    model = GaussianNB()\n",
    "    \n",
    "    # Train the model via train data\n",
    "    model.fit(X_train, y_train);\n",
    "    \n",
    "    # Test the model via test data\n",
    "    y_hat = model.predict(X_test)\n",
    "    prob = model.predict_proba(X_test)[:,1]\n",
    "    \n",
    "    # Calcaulte metrics via test data\n",
    "    acc, sen, spc, prc = classification_metrics(y_test, y_hat)\n",
    "    auc = metrics.roc_auc_score(y_test, prob)\n",
    "\n",
    "    # add new row to result_df\n",
    "    result_df.loc[len(result_df)] = [acc, sen, spc, prc, auc]"
   ]
  },
  {
   "cell_type": "code",
   "execution_count": 21,
   "id": "75e674f8-1d92-4c9a-8881-40d2d5722619",
   "metadata": {},
   "outputs": [
    {
     "data": {
      "text/html": [
       "<div>\n",
       "<style scoped>\n",
       "    .dataframe tbody tr th:only-of-type {\n",
       "        vertical-align: middle;\n",
       "    }\n",
       "\n",
       "    .dataframe tbody tr th {\n",
       "        vertical-align: top;\n",
       "    }\n",
       "\n",
       "    .dataframe thead th {\n",
       "        text-align: right;\n",
       "    }\n",
       "</style>\n",
       "<table border=\"1\" class=\"dataframe\">\n",
       "  <thead>\n",
       "    <tr style=\"text-align: right;\">\n",
       "      <th></th>\n",
       "      <th>acc</th>\n",
       "      <th>sen</th>\n",
       "      <th>spc</th>\n",
       "      <th>prc</th>\n",
       "      <th>auc</th>\n",
       "    </tr>\n",
       "  </thead>\n",
       "  <tbody>\n",
       "    <tr>\n",
       "      <th>0</th>\n",
       "      <td>0.937063</td>\n",
       "      <td>0.954023</td>\n",
       "      <td>0.910714</td>\n",
       "      <td>0.943182</td>\n",
       "      <td>0.991379</td>\n",
       "    </tr>\n",
       "    <tr>\n",
       "      <th>1</th>\n",
       "      <td>0.944056</td>\n",
       "      <td>0.977528</td>\n",
       "      <td>0.888889</td>\n",
       "      <td>0.935484</td>\n",
       "      <td>0.989804</td>\n",
       "    </tr>\n",
       "    <tr>\n",
       "      <th>2</th>\n",
       "      <td>0.937063</td>\n",
       "      <td>0.967033</td>\n",
       "      <td>0.884615</td>\n",
       "      <td>0.936170</td>\n",
       "      <td>0.985207</td>\n",
       "    </tr>\n",
       "    <tr>\n",
       "      <th>3</th>\n",
       "      <td>0.923077</td>\n",
       "      <td>0.975000</td>\n",
       "      <td>0.857143</td>\n",
       "      <td>0.896552</td>\n",
       "      <td>0.980556</td>\n",
       "    </tr>\n",
       "    <tr>\n",
       "      <th>4</th>\n",
       "      <td>0.916084</td>\n",
       "      <td>0.947917</td>\n",
       "      <td>0.851064</td>\n",
       "      <td>0.928571</td>\n",
       "      <td>0.989805</td>\n",
       "    </tr>\n",
       "    <tr>\n",
       "      <th>...</th>\n",
       "      <td>...</td>\n",
       "      <td>...</td>\n",
       "      <td>...</td>\n",
       "      <td>...</td>\n",
       "      <td>...</td>\n",
       "    </tr>\n",
       "    <tr>\n",
       "      <th>95</th>\n",
       "      <td>0.972028</td>\n",
       "      <td>0.966667</td>\n",
       "      <td>0.981132</td>\n",
       "      <td>0.988636</td>\n",
       "      <td>0.998742</td>\n",
       "    </tr>\n",
       "    <tr>\n",
       "      <th>96</th>\n",
       "      <td>0.951049</td>\n",
       "      <td>0.941176</td>\n",
       "      <td>0.960000</td>\n",
       "      <td>0.955224</td>\n",
       "      <td>0.993137</td>\n",
       "    </tr>\n",
       "    <tr>\n",
       "      <th>97</th>\n",
       "      <td>0.965035</td>\n",
       "      <td>0.989247</td>\n",
       "      <td>0.920000</td>\n",
       "      <td>0.958333</td>\n",
       "      <td>0.995054</td>\n",
       "    </tr>\n",
       "    <tr>\n",
       "      <th>98</th>\n",
       "      <td>0.965035</td>\n",
       "      <td>1.000000</td>\n",
       "      <td>0.912281</td>\n",
       "      <td>0.945055</td>\n",
       "      <td>0.997756</td>\n",
       "    </tr>\n",
       "    <tr>\n",
       "      <th>99</th>\n",
       "      <td>0.930070</td>\n",
       "      <td>0.968085</td>\n",
       "      <td>0.857143</td>\n",
       "      <td>0.928571</td>\n",
       "      <td>0.984802</td>\n",
       "    </tr>\n",
       "  </tbody>\n",
       "</table>\n",
       "<p>100 rows × 5 columns</p>\n",
       "</div>"
      ],
      "text/plain": [
       "         acc       sen       spc       prc       auc\n",
       "0   0.937063  0.954023  0.910714  0.943182  0.991379\n",
       "1   0.944056  0.977528  0.888889  0.935484  0.989804\n",
       "2   0.937063  0.967033  0.884615  0.936170  0.985207\n",
       "3   0.923077  0.975000  0.857143  0.896552  0.980556\n",
       "4   0.916084  0.947917  0.851064  0.928571  0.989805\n",
       "..       ...       ...       ...       ...       ...\n",
       "95  0.972028  0.966667  0.981132  0.988636  0.998742\n",
       "96  0.951049  0.941176  0.960000  0.955224  0.993137\n",
       "97  0.965035  0.989247  0.920000  0.958333  0.995054\n",
       "98  0.965035  1.000000  0.912281  0.945055  0.997756\n",
       "99  0.930070  0.968085  0.857143  0.928571  0.984802\n",
       "\n",
       "[100 rows x 5 columns]"
      ]
     },
     "execution_count": 21,
     "metadata": {},
     "output_type": "execute_result"
    }
   ],
   "source": [
    "result_df"
   ]
  },
  {
   "cell_type": "code",
   "execution_count": 25,
   "id": "7f03315b-2a9e-49ca-a08e-2a0948bf82eb",
   "metadata": {},
   "outputs": [
    {
     "data": {
      "text/plain": [
       "acc    0.938392\n",
       "sen    0.965427\n",
       "spc    0.893740\n",
       "prc    0.937959\n",
       "auc    0.987838\n",
       "dtype: float64"
      ]
     },
     "execution_count": 25,
     "metadata": {},
     "output_type": "execute_result"
    }
   ],
   "source": [
    "result_df.mean()"
   ]
  },
  {
   "cell_type": "code",
   "execution_count": 26,
   "id": "fb1b34a1-8936-4cde-8ad1-18adb8d34755",
   "metadata": {},
   "outputs": [
    {
     "data": {
      "text/plain": [
       "acc    0.019007\n",
       "sen    0.020521\n",
       "spc    0.041052\n",
       "prc    0.024904\n",
       "auc    0.006715\n",
       "dtype: float64"
      ]
     },
     "execution_count": 26,
     "metadata": {},
     "output_type": "execute_result"
    }
   ],
   "source": [
    "result_df.std()"
   ]
  },
  {
   "cell_type": "code",
   "execution_count": null,
   "id": "ea32ec73-17a6-423a-9f4b-90756bdfa308",
   "metadata": {},
   "outputs": [],
   "source": []
  }
 ],
 "metadata": {
  "kernelspec": {
   "display_name": "Python 3 (ipykernel)",
   "language": "python",
   "name": "python3"
  },
  "language_info": {
   "codemirror_mode": {
    "name": "ipython",
    "version": 3
   },
   "file_extension": ".py",
   "mimetype": "text/x-python",
   "name": "python",
   "nbconvert_exporter": "python",
   "pygments_lexer": "ipython3",
   "version": "3.11.8"
  }
 },
 "nbformat": 4,
 "nbformat_minor": 5
}
