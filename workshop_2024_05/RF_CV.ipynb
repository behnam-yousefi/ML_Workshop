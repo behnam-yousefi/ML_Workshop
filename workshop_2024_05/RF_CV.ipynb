{
 "cells": [
  {
   "cell_type": "code",
   "execution_count": 15,
   "id": "71ff233b-ab74-4816-90ce-ca1aab6688ef",
   "metadata": {},
   "outputs": [],
   "source": [
    "from sklearn.datasets import load_breast_cancer\n",
    "from sklearn.ensemble import RandomForestClassifier\n",
    "from sklearn.model_selection import train_test_split\n",
    "from sklearn import metrics\n",
    "import matplotlib.pyplot as plt\n",
    "import pandas as pd\n",
    "import numpy as np"
   ]
  },
  {
   "cell_type": "code",
   "execution_count": 2,
   "id": "7e1868fe-2cfb-4199-9668-1043a2dd1e2d",
   "metadata": {},
   "outputs": [],
   "source": [
    "def classification_metrics(target, pred):\n",
    "    tn, fp, fn, tp = metrics.confusion_matrix(target, pred).ravel()\n",
    "    acc = (tp + tn) / (tn + fp + fn + tp)\n",
    "    sen = tp / (tp + fn)\n",
    "    spc = tn / (tn + fp)\n",
    "    prc = tp / (tp + fp)\n",
    "    return acc, sen, spc, prc"
   ]
  },
  {
   "cell_type": "code",
   "execution_count": 3,
   "id": "09640db7-c020-4f01-9cd3-d76b8b970444",
   "metadata": {},
   "outputs": [
    {
     "data": {
      "text/plain": [
       "((569, 30), (569,))"
      ]
     },
     "execution_count": 3,
     "metadata": {},
     "output_type": "execute_result"
    }
   ],
   "source": [
    "data = load_breast_cancer()\n",
    "X, y = data['data'], data['target']\n",
    "X.shape, y.shape"
   ]
  },
  {
   "cell_type": "code",
   "execution_count": 4,
   "id": "9fe1a18b-11ce-44fe-bd3e-8e2748a2f1ea",
   "metadata": {},
   "outputs": [],
   "source": [
    "X_norm = (X - X.mean(axis=0)) / X.std(axis=0)"
   ]
  },
  {
   "cell_type": "code",
   "execution_count": 6,
   "id": "20532b35-677a-439c-8861-14c04b28b5c7",
   "metadata": {
    "scrolled": true
   },
   "outputs": [],
   "source": [
    "rep = 100\n",
    "result_df = pd.DataFrame(columns=['acc', 'sen', 'spc', 'prc'])\n",
    "\n",
    "for i in range(rep):\n",
    "\n",
    "    X_train, X_test, y_train, y_test = train_test_split(X_norm, y)\n",
    "    model = RandomForestClassifier()\n",
    "    \n",
    "    # Train the model via train data\n",
    "    model.fit(X_train, y_train);\n",
    "    \n",
    "    # Test the model via test data\n",
    "    y_hat = model.predict(X_test)\n",
    "    \n",
    "    # Calcaulte metrics via test data\n",
    "    acc, sen, spc, prc = classification_metrics(y_test, y_hat)\n",
    "\n",
    "    # add new row to result_df\n",
    "    result_df.loc[len(result_df)] = [acc, sen, spc, prc]"
   ]
  },
  {
   "cell_type": "code",
   "execution_count": 9,
   "id": "75e674f8-1d92-4c9a-8881-40d2d5722619",
   "metadata": {},
   "outputs": [
    {
     "data": {
      "text/html": [
       "<div>\n",
       "<style scoped>\n",
       "    .dataframe tbody tr th:only-of-type {\n",
       "        vertical-align: middle;\n",
       "    }\n",
       "\n",
       "    .dataframe tbody tr th {\n",
       "        vertical-align: top;\n",
       "    }\n",
       "\n",
       "    .dataframe thead th {\n",
       "        text-align: right;\n",
       "    }\n",
       "</style>\n",
       "<table border=\"1\" class=\"dataframe\">\n",
       "  <thead>\n",
       "    <tr style=\"text-align: right;\">\n",
       "      <th></th>\n",
       "      <th>acc</th>\n",
       "      <th>sen</th>\n",
       "      <th>spc</th>\n",
       "      <th>prc</th>\n",
       "    </tr>\n",
       "  </thead>\n",
       "  <tbody>\n",
       "    <tr>\n",
       "      <th>0</th>\n",
       "      <td>0.951049</td>\n",
       "      <td>0.978261</td>\n",
       "      <td>0.901961</td>\n",
       "      <td>0.947368</td>\n",
       "    </tr>\n",
       "    <tr>\n",
       "      <th>1</th>\n",
       "      <td>0.951049</td>\n",
       "      <td>0.989011</td>\n",
       "      <td>0.884615</td>\n",
       "      <td>0.937500</td>\n",
       "    </tr>\n",
       "    <tr>\n",
       "      <th>2</th>\n",
       "      <td>0.972028</td>\n",
       "      <td>0.978022</td>\n",
       "      <td>0.961538</td>\n",
       "      <td>0.978022</td>\n",
       "    </tr>\n",
       "    <tr>\n",
       "      <th>3</th>\n",
       "      <td>0.951049</td>\n",
       "      <td>0.936170</td>\n",
       "      <td>0.979592</td>\n",
       "      <td>0.988764</td>\n",
       "    </tr>\n",
       "    <tr>\n",
       "      <th>4</th>\n",
       "      <td>0.972028</td>\n",
       "      <td>0.964286</td>\n",
       "      <td>0.983051</td>\n",
       "      <td>0.987805</td>\n",
       "    </tr>\n",
       "    <tr>\n",
       "      <th>...</th>\n",
       "      <td>...</td>\n",
       "      <td>...</td>\n",
       "      <td>...</td>\n",
       "      <td>...</td>\n",
       "    </tr>\n",
       "    <tr>\n",
       "      <th>95</th>\n",
       "      <td>0.944056</td>\n",
       "      <td>0.976190</td>\n",
       "      <td>0.898305</td>\n",
       "      <td>0.931818</td>\n",
       "    </tr>\n",
       "    <tr>\n",
       "      <th>96</th>\n",
       "      <td>0.944056</td>\n",
       "      <td>0.964286</td>\n",
       "      <td>0.915254</td>\n",
       "      <td>0.941860</td>\n",
       "    </tr>\n",
       "    <tr>\n",
       "      <th>97</th>\n",
       "      <td>0.965035</td>\n",
       "      <td>0.945055</td>\n",
       "      <td>1.000000</td>\n",
       "      <td>1.000000</td>\n",
       "    </tr>\n",
       "    <tr>\n",
       "      <th>98</th>\n",
       "      <td>0.958042</td>\n",
       "      <td>0.958333</td>\n",
       "      <td>0.957447</td>\n",
       "      <td>0.978723</td>\n",
       "    </tr>\n",
       "    <tr>\n",
       "      <th>99</th>\n",
       "      <td>0.965035</td>\n",
       "      <td>0.977778</td>\n",
       "      <td>0.943396</td>\n",
       "      <td>0.967033</td>\n",
       "    </tr>\n",
       "  </tbody>\n",
       "</table>\n",
       "<p>100 rows × 4 columns</p>\n",
       "</div>"
      ],
      "text/plain": [
       "         acc       sen       spc       prc\n",
       "0   0.951049  0.978261  0.901961  0.947368\n",
       "1   0.951049  0.989011  0.884615  0.937500\n",
       "2   0.972028  0.978022  0.961538  0.978022\n",
       "3   0.951049  0.936170  0.979592  0.988764\n",
       "4   0.972028  0.964286  0.983051  0.987805\n",
       "..       ...       ...       ...       ...\n",
       "95  0.944056  0.976190  0.898305  0.931818\n",
       "96  0.944056  0.964286  0.915254  0.941860\n",
       "97  0.965035  0.945055  1.000000  1.000000\n",
       "98  0.958042  0.958333  0.957447  0.978723\n",
       "99  0.965035  0.977778  0.943396  0.967033\n",
       "\n",
       "[100 rows x 4 columns]"
      ]
     },
     "execution_count": 9,
     "metadata": {},
     "output_type": "execute_result"
    }
   ],
   "source": [
    "result_df"
   ]
  },
  {
   "cell_type": "code",
   "execution_count": 10,
   "id": "7f03315b-2a9e-49ca-a08e-2a0948bf82eb",
   "metadata": {},
   "outputs": [
    {
     "data": {
      "text/plain": [
       "acc    0.960979\n",
       "sen    0.971070\n",
       "spc    0.944310\n",
       "prc    0.967423\n",
       "dtype: float64"
      ]
     },
     "execution_count": 10,
     "metadata": {},
     "output_type": "execute_result"
    }
   ],
   "source": [
    "result_df.mean()"
   ]
  },
  {
   "cell_type": "code",
   "execution_count": 11,
   "id": "fb1b34a1-8936-4cde-8ad1-18adb8d34755",
   "metadata": {},
   "outputs": [
    {
     "data": {
      "text/plain": [
       "acc    0.014168\n",
       "sen    0.017092\n",
       "spc    0.032494\n",
       "prc    0.019124\n",
       "dtype: float64"
      ]
     },
     "execution_count": 11,
     "metadata": {},
     "output_type": "execute_result"
    }
   ],
   "source": [
    "result_df.std()"
   ]
  },
  {
   "cell_type": "code",
   "execution_count": 18,
   "id": "ea32ec73-17a6-423a-9f4b-90756bdfa308",
   "metadata": {},
   "outputs": [
    {
     "data": {
      "text/plain": [
       "array([22,  7, 27, 20, 23])"
      ]
     },
     "execution_count": 18,
     "metadata": {},
     "output_type": "execute_result"
    }
   ],
   "source": [
    "importance = model.feature_importances_\n",
    "feature_ranks = np.argsort(importance)[::-1]\n",
    "feature_ranks[0:5]"
   ]
  },
  {
   "cell_type": "code",
   "execution_count": null,
   "id": "34417469-d8ad-4058-b16f-e5134ea4892d",
   "metadata": {},
   "outputs": [],
   "source": []
  }
 ],
 "metadata": {
  "kernelspec": {
   "display_name": "Python 3 (ipykernel)",
   "language": "python",
   "name": "python3"
  },
  "language_info": {
   "codemirror_mode": {
    "name": "ipython",
    "version": 3
   },
   "file_extension": ".py",
   "mimetype": "text/x-python",
   "name": "python",
   "nbconvert_exporter": "python",
   "pygments_lexer": "ipython3",
   "version": "3.11.8"
  }
 },
 "nbformat": 4,
 "nbformat_minor": 5
}
