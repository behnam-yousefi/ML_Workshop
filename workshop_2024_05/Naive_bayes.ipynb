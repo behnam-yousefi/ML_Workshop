{
 "cells": [
  {
   "cell_type": "code",
   "execution_count": 52,
   "id": "71ff233b-ab74-4816-90ce-ca1aab6688ef",
   "metadata": {},
   "outputs": [],
   "source": [
    "from sklearn.datasets import load_breast_cancer\n",
    "from sklearn.naive_bayes import GaussianNB\n",
    "from sklearn import metrics\n",
    "import matplotlib.pyplot as plt"
   ]
  },
  {
   "cell_type": "code",
   "execution_count": 17,
   "id": "09640db7-c020-4f01-9cd3-d76b8b970444",
   "metadata": {},
   "outputs": [
    {
     "data": {
      "text/plain": [
       "((569, 30), (569,))"
      ]
     },
     "execution_count": 17,
     "metadata": {},
     "output_type": "execute_result"
    }
   ],
   "source": [
    "data = load_breast_cancer()\n",
    "X, y = data['data'], data['target']\n",
    "X.shape, y.shape"
   ]
  },
  {
   "cell_type": "code",
   "execution_count": 18,
   "id": "20532b35-677a-439c-8861-14c04b28b5c7",
   "metadata": {},
   "outputs": [],
   "source": [
    "model = GaussianNB()"
   ]
  },
  {
   "cell_type": "code",
   "execution_count": 20,
   "id": "51d7c7c2-60d8-4da4-8cce-bc3556bdb9de",
   "metadata": {},
   "outputs": [
    {
     "name": "stdout",
     "output_type": "stream",
     "text": [
      "The model is trained!\n"
     ]
    }
   ],
   "source": [
    "model.fit(X, y)\n",
    "print(\"The model is trained!\")"
   ]
  },
  {
   "cell_type": "code",
   "execution_count": 22,
   "id": "b9f7b59c-88ba-4c72-8ae3-7070fa590a42",
   "metadata": {},
   "outputs": [],
   "source": [
    "y_hat = model.predict(X)"
   ]
  },
  {
   "cell_type": "code",
   "execution_count": 25,
   "id": "563db720-e3b9-469b-aa17-e4de9f91e8ab",
   "metadata": {},
   "outputs": [
    {
     "data": {
      "text/plain": [
       "(array([0, 0, 0, 0, 0, 0, 0, 0, 0, 0, 0, 0, 0, 0, 0, 0, 0, 0, 0, 1]),\n",
       " array([0, 0, 0, 0, 0, 0, 0, 0, 0, 0, 0, 0, 0, 1, 0, 0, 0, 0, 0, 1]))"
      ]
     },
     "execution_count": 25,
     "metadata": {},
     "output_type": "execute_result"
    }
   ],
   "source": [
    "y[0:20], y_hat[0:20]"
   ]
  },
  {
   "cell_type": "code",
   "execution_count": 33,
   "id": "13a86ed4-c4f5-493c-a987-a0bd99ba009c",
   "metadata": {},
   "outputs": [
    {
     "name": "stdout",
     "output_type": "stream",
     "text": [
      "Accuract = 94.20 %\n"
     ]
    }
   ],
   "source": [
    "acc = ((y - y_hat) == 0).sum() / len(y) * 100\n",
    "print(f'Accuract = {acc:.2f} %')"
   ]
  },
  {
   "cell_type": "code",
   "execution_count": 44,
   "id": "a5de5c66-2bf9-47b5-8caf-9e11a504b02c",
   "metadata": {},
   "outputs": [],
   "source": [
    "def classification_metrics(target, pred):\n",
    "    tn, fp, fn, tp = metrics.confusion_matrix(target, pred).ravel()\n",
    "    acc = (tp + tn) / (tn + fp + fn + tp)\n",
    "    sen = tp / (tp + fn)\n",
    "    spc = tn / (tn + fp)\n",
    "    prc = tp / (tp + fp)\n",
    "    return acc, sen, spc, prc"
   ]
  },
  {
   "cell_type": "code",
   "execution_count": 45,
   "id": "d0a95b6b-9a11-489f-aeb8-0022d5924754",
   "metadata": {},
   "outputs": [
    {
     "data": {
      "text/plain": [
       "(0.9420035149384886,\n",
       " 0.9719887955182073,\n",
       " 0.8915094339622641,\n",
       " 0.9378378378378378)"
      ]
     },
     "execution_count": 45,
     "metadata": {},
     "output_type": "execute_result"
    }
   ],
   "source": [
    "classification_metrics(y, y_hat)"
   ]
  },
  {
   "cell_type": "code",
   "execution_count": 54,
   "id": "8ffe30d7-36a5-461d-97ee-0072663c51bb",
   "metadata": {},
   "outputs": [
    {
     "data": {
      "text/plain": [
       "0.9890333491887321"
      ]
     },
     "execution_count": 54,
     "metadata": {},
     "output_type": "execute_result"
    }
   ],
   "source": [
    "prob = model.predict_proba(X)[:,1]\n",
    "metrics.roc_auc_score(y, prob)"
   ]
  },
  {
   "cell_type": "code",
   "execution_count": 57,
   "id": "ca297e11-f53a-4e33-9458-f79e660bbb15",
   "metadata": {},
   "outputs": [
    {
     "data": {
      "image/png": "[encoded data removed]",
      "text/plain": [
       "<Figure size 640x480 with 1 Axes>"
      ]
     },
     "metadata": {},
     "output_type": "display_data"
    }
   ],
   "source": [
    "plt.hist(prob[y == 0], bins=20, color=\"red\", alpha=.7);\n",
    "plt.hist(prob[y == 1], bins=20, color=\"green\", alpha=.7);"
   ]
  },
  {
   "cell_type": "code",
   "execution_count": 58,
   "id": "4249bd5f-f435-4caa-95d4-9f7ab36a8e00",
   "metadata": {},
   "outputs": [],
   "source": [
    "fpr, tps, thre = metrics.roc_curve(y, prob)"
   ]
  },
  {
   "cell_type": "code",
   "execution_count": 63,
   "id": "579907ca-8c7b-435b-a9e3-daac75f4dfd6",
   "metadata": {},
   "outputs": [
    {
     "data": {
      "text/plain": [
       "[<matplotlib.lines.Line2D at 0x121c61050>]"
      ]
     },
     "execution_count": 63,
     "metadata": {},
     "output_type": "execute_result"
    },
    {
     "data": {
      "image/png": "[encoded data removed]",
      "text/plain": [
       "<Figure size 300x300 with 1 Axes>"
      ]
     },
     "metadata": {},
     "output_type": "display_data"
    }
   ],
   "source": [
    "fpr, tps, thre = metrics.roc_curve(y, prob)\n",
    "plt.figure(figsize=(3, 3))\n",
    "plt.plot(fpr, tps);\n",
    "plt.plot([0, 1], [0, 1], linestyle='--')"
   ]
  },
  {
   "cell_type": "code",
   "execution_count": null,
   "id": "75e674f8-1d92-4c9a-8881-40d2d5722619",
   "metadata": {},
   "outputs": [],
   "source": []
  }
 ],
 "metadata": {
  "kernelspec": {
   "display_name": "Python 3 (ipykernel)",
   "language": "python",
   "name": "python3"
  },
  "language_info": {
   "codemirror_mode": {
    "name": "ipython",
    "version": 3
   },
   "file_extension": ".py",
   "mimetype": "text/x-python",
   "name": "python",
   "nbconvert_exporter": "python",
   "pygments_lexer": "ipython3",
   "version": "3.11.8"
  }
 },
 "nbformat": 4,
 "nbformat_minor": 5
}
