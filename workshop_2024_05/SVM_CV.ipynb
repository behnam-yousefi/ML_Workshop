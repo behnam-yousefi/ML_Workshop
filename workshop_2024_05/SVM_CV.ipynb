{
 "cells": [
  {
   "cell_type": "code",
   "execution_count": 1,
   "id": "71ff233b-ab74-4816-90ce-ca1aab6688ef",
   "metadata": {},
   "outputs": [],
   "source": [
    "from sklearn.datasets import load_breast_cancer\n",
    "from sklearn.svm import SVC\n",
    "from sklearn.model_selection import train_test_split\n",
    "from sklearn import metrics\n",
    "import matplotlib.pyplot as plt\n",
    "import pandas as pd"
   ]
  },
  {
   "cell_type": "code",
   "execution_count": 2,
   "id": "7e1868fe-2cfb-4199-9668-1043a2dd1e2d",
   "metadata": {},
   "outputs": [],
   "source": [
    "def classification_metrics(target, pred):\n",
    "    tn, fp, fn, tp = metrics.confusion_matrix(target, pred).ravel()\n",
    "    acc = (tp + tn) / (tn + fp + fn + tp)\n",
    "    sen = tp / (tp + fn)\n",
    "    spc = tn / (tn + fp)\n",
    "    prc = tp / (tp + fp)\n",
    "    return acc, sen, spc, prc"
   ]
  },
  {
   "cell_type": "code",
   "execution_count": 3,
   "id": "09640db7-c020-4f01-9cd3-d76b8b970444",
   "metadata": {},
   "outputs": [
    {
     "data": {
      "text/plain": [
       "((569, 30), (569,))"
      ]
     },
     "execution_count": 3,
     "metadata": {},
     "output_type": "execute_result"
    }
   ],
   "source": [
    "data = load_breast_cancer()\n",
    "X, y = data['data'], data['target']\n",
    "X.shape, y.shape"
   ]
  },
  {
   "cell_type": "code",
   "execution_count": 4,
   "id": "9fe1a18b-11ce-44fe-bd3e-8e2748a2f1ea",
   "metadata": {},
   "outputs": [],
   "source": [
    "X_norm = (X - X.mean(axis=0)) / X.std(axis=0)"
   ]
  },
  {
   "cell_type": "code",
   "execution_count": 18,
   "id": "20532b35-677a-439c-8861-14c04b28b5c7",
   "metadata": {
    "scrolled": true
   },
   "outputs": [],
   "source": [
    "rep = 100\n",
    "result_df = pd.DataFrame(columns=['acc', 'sen', 'spc', 'prc'])\n",
    "\n",
    "for i in range(rep):\n",
    "\n",
    "    X_train, X_test, y_train, y_test = train_test_split(X_norm, y)\n",
    "    model = SVC(kernel='linear')\n",
    "\n",
    "    # Train the model via train data\n",
    "    model.fit(X_train, y_train);\n",
    "    \n",
    "    # Test the model via test data\n",
    "    y_hat = model.predict(X_test)\n",
    "    \n",
    "    # Calcaulte metrics via test data\n",
    "    acc, sen, spc, prc = classification_metrics(y_test, y_hat)\n",
    "\n",
    "    # add new row to result_df\n",
    "    result_df.loc[len(result_df)] = [acc, sen, spc, prc]"
   ]
  },
  {
   "cell_type": "code",
   "execution_count": 19,
   "id": "75e674f8-1d92-4c9a-8881-40d2d5722619",
   "metadata": {},
   "outputs": [
    {
     "data": {
      "text/html": [
       "<div>\n",
       "<style scoped>\n",
       "    .dataframe tbody tr th:only-of-type {\n",
       "        vertical-align: middle;\n",
       "    }\n",
       "\n",
       "    .dataframe tbody tr th {\n",
       "        vertical-align: top;\n",
       "    }\n",
       "\n",
       "    .dataframe thead th {\n",
       "        text-align: right;\n",
       "    }\n",
       "</style>\n",
       "<table border=\"1\" class=\"dataframe\">\n",
       "  <thead>\n",
       "    <tr style=\"text-align: right;\">\n",
       "      <th></th>\n",
       "      <th>acc</th>\n",
       "      <th>sen</th>\n",
       "      <th>spc</th>\n",
       "      <th>prc</th>\n",
       "    </tr>\n",
       "  </thead>\n",
       "  <tbody>\n",
       "    <tr>\n",
       "      <th>0</th>\n",
       "      <td>0.979021</td>\n",
       "      <td>0.976471</td>\n",
       "      <td>0.982759</td>\n",
       "      <td>0.988095</td>\n",
       "    </tr>\n",
       "    <tr>\n",
       "      <th>1</th>\n",
       "      <td>0.944056</td>\n",
       "      <td>0.957447</td>\n",
       "      <td>0.918367</td>\n",
       "      <td>0.957447</td>\n",
       "    </tr>\n",
       "    <tr>\n",
       "      <th>2</th>\n",
       "      <td>0.972028</td>\n",
       "      <td>0.965116</td>\n",
       "      <td>0.982456</td>\n",
       "      <td>0.988095</td>\n",
       "    </tr>\n",
       "    <tr>\n",
       "      <th>3</th>\n",
       "      <td>0.986014</td>\n",
       "      <td>0.989474</td>\n",
       "      <td>0.979167</td>\n",
       "      <td>0.989474</td>\n",
       "    </tr>\n",
       "    <tr>\n",
       "      <th>4</th>\n",
       "      <td>0.986014</td>\n",
       "      <td>1.000000</td>\n",
       "      <td>0.962264</td>\n",
       "      <td>0.978261</td>\n",
       "    </tr>\n",
       "    <tr>\n",
       "      <th>...</th>\n",
       "      <td>...</td>\n",
       "      <td>...</td>\n",
       "      <td>...</td>\n",
       "      <td>...</td>\n",
       "    </tr>\n",
       "    <tr>\n",
       "      <th>95</th>\n",
       "      <td>0.993007</td>\n",
       "      <td>0.988889</td>\n",
       "      <td>1.000000</td>\n",
       "      <td>1.000000</td>\n",
       "    </tr>\n",
       "    <tr>\n",
       "      <th>96</th>\n",
       "      <td>0.979021</td>\n",
       "      <td>0.977273</td>\n",
       "      <td>0.981818</td>\n",
       "      <td>0.988506</td>\n",
       "    </tr>\n",
       "    <tr>\n",
       "      <th>97</th>\n",
       "      <td>0.972028</td>\n",
       "      <td>0.988372</td>\n",
       "      <td>0.947368</td>\n",
       "      <td>0.965909</td>\n",
       "    </tr>\n",
       "    <tr>\n",
       "      <th>98</th>\n",
       "      <td>0.951049</td>\n",
       "      <td>0.977011</td>\n",
       "      <td>0.910714</td>\n",
       "      <td>0.944444</td>\n",
       "    </tr>\n",
       "    <tr>\n",
       "      <th>99</th>\n",
       "      <td>0.937063</td>\n",
       "      <td>0.954023</td>\n",
       "      <td>0.910714</td>\n",
       "      <td>0.943182</td>\n",
       "    </tr>\n",
       "  </tbody>\n",
       "</table>\n",
       "<p>100 rows × 4 columns</p>\n",
       "</div>"
      ],
      "text/plain": [
       "         acc       sen       spc       prc\n",
       "0   0.979021  0.976471  0.982759  0.988095\n",
       "1   0.944056  0.957447  0.918367  0.957447\n",
       "2   0.972028  0.965116  0.982456  0.988095\n",
       "3   0.986014  0.989474  0.979167  0.989474\n",
       "4   0.986014  1.000000  0.962264  0.978261\n",
       "..       ...       ...       ...       ...\n",
       "95  0.993007  0.988889  1.000000  1.000000\n",
       "96  0.979021  0.977273  0.981818  0.988506\n",
       "97  0.972028  0.988372  0.947368  0.965909\n",
       "98  0.951049  0.977011  0.910714  0.944444\n",
       "99  0.937063  0.954023  0.910714  0.943182\n",
       "\n",
       "[100 rows x 4 columns]"
      ]
     },
     "execution_count": 19,
     "metadata": {},
     "output_type": "execute_result"
    }
   ],
   "source": [
    "result_df"
   ]
  },
  {
   "cell_type": "code",
   "execution_count": 20,
   "id": "7f03315b-2a9e-49ca-a08e-2a0948bf82eb",
   "metadata": {},
   "outputs": [
    {
     "data": {
      "text/plain": [
       "acc    0.972378\n",
       "sen    0.984197\n",
       "spc    0.952796\n",
       "prc    0.972012\n",
       "dtype: float64"
      ]
     },
     "execution_count": 20,
     "metadata": {},
     "output_type": "execute_result"
    }
   ],
   "source": [
    "result_df.mean()"
   ]
  },
  {
   "cell_type": "code",
   "execution_count": 21,
   "id": "fb1b34a1-8936-4cde-8ad1-18adb8d34755",
   "metadata": {},
   "outputs": [
    {
     "data": {
      "text/plain": [
       "acc    0.014416\n",
       "sen    0.012459\n",
       "spc    0.031638\n",
       "prc    0.019324\n",
       "dtype: float64"
      ]
     },
     "execution_count": 21,
     "metadata": {},
     "output_type": "execute_result"
    }
   ],
   "source": [
    "result_df.std()"
   ]
  },
  {
   "cell_type": "code",
   "execution_count": 22,
   "id": "ea32ec73-17a6-423a-9f4b-90756bdfa308",
   "metadata": {},
   "outputs": [
    {
     "data": {
      "text/plain": [
       "array([-0.03406146])"
      ]
     },
     "execution_count": 22,
     "metadata": {},
     "output_type": "execute_result"
    }
   ],
   "source": [
    "model.intercept_"
   ]
  },
  {
   "cell_type": "code",
   "execution_count": 24,
   "id": "9a0d5125-fb07-43e7-8432-d02a817c0a27",
   "metadata": {},
   "outputs": [],
   "source": [
    "# for linear:\n",
    "# model.coef_\n",
    "\n",
    "# for nonlinear:\n",
    "# model.dual_coef_"
   ]
  },
  {
   "cell_type": "code",
   "execution_count": null,
   "id": "c74508ee-4e3b-44c9-bf56-2cf42102440a",
   "metadata": {},
   "outputs": [],
   "source": []
  }
 ],
 "metadata": {
  "kernelspec": {
   "display_name": "Python 3 (ipykernel)",
   "language": "python",
   "name": "python3"
  },
  "language_info": {
   "codemirror_mode": {
    "name": "ipython",
    "version": 3
   },
   "file_extension": ".py",
   "mimetype": "text/x-python",
   "name": "python",
   "nbconvert_exporter": "python",
   "pygments_lexer": "ipython3",
   "version": "3.11.8"
  }
 },
 "nbformat": 4,
 "nbformat_minor": 5
}
