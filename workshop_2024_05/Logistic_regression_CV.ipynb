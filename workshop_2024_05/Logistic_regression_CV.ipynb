{
 "cells": [
  {
   "cell_type": "code",
   "execution_count": 1,
   "id": "71ff233b-ab74-4816-90ce-ca1aab6688ef",
   "metadata": {},
   "outputs": [],
   "source": [
    "from sklearn.datasets import load_breast_cancer\n",
    "from sklearn.linear_model import LogisticRegression\n",
    "from sklearn.model_selection import train_test_split\n",
    "from sklearn import metrics\n",
    "import matplotlib.pyplot as plt\n",
    "import pandas as pd"
   ]
  },
  {
   "cell_type": "code",
   "execution_count": 2,
   "id": "7e1868fe-2cfb-4199-9668-1043a2dd1e2d",
   "metadata": {},
   "outputs": [],
   "source": [
    "def classification_metrics(target, pred):\n",
    "    tn, fp, fn, tp = metrics.confusion_matrix(target, pred).ravel()\n",
    "    acc = (tp + tn) / (tn + fp + fn + tp)\n",
    "    sen = tp / (tp + fn)\n",
    "    spc = tn / (tn + fp)\n",
    "    prc = tp / (tp + fp)\n",
    "    return acc, sen, spc, prc"
   ]
  },
  {
   "cell_type": "code",
   "execution_count": 3,
   "id": "09640db7-c020-4f01-9cd3-d76b8b970444",
   "metadata": {},
   "outputs": [
    {
     "data": {
      "text/plain": [
       "((569, 30), (569,))"
      ]
     },
     "execution_count": 3,
     "metadata": {},
     "output_type": "execute_result"
    }
   ],
   "source": [
    "data = load_breast_cancer()\n",
    "X, y = data['data'], data['target']\n",
    "X.shape, y.shape"
   ]
  },
  {
   "cell_type": "code",
   "execution_count": 20,
   "id": "9fe1a18b-11ce-44fe-bd3e-8e2748a2f1ea",
   "metadata": {},
   "outputs": [],
   "source": [
    "X_norm = (X - X.mean(axis=0)) / X.std(axis=0)"
   ]
  },
  {
   "cell_type": "code",
   "execution_count": 21,
   "id": "20532b35-677a-439c-8861-14c04b28b5c7",
   "metadata": {
    "scrolled": true
   },
   "outputs": [],
   "source": [
    "rep = 100\n",
    "result_df = pd.DataFrame(columns=['acc', 'sen', 'spc', 'prc', 'auc'])\n",
    "\n",
    "for i in range(rep):\n",
    "\n",
    "    X_train, X_test, y_train, y_test = train_test_split(X_norm, y)\n",
    "    model = LogisticRegression()\n",
    "    \n",
    "    # Train the model via train data\n",
    "    model.fit(X_train, y_train);\n",
    "    \n",
    "    # Test the model via test data\n",
    "    y_hat = model.predict(X_test)\n",
    "    prob = model.predict_proba(X_test)[:,1]\n",
    "    \n",
    "    # Calcaulte metrics via test data\n",
    "    acc, sen, spc, prc = classification_metrics(y_test, y_hat)\n",
    "    auc = metrics.roc_auc_score(y_test, prob)\n",
    "\n",
    "    # add new row to result_df\n",
    "    result_df.loc[len(result_df)] = [acc, sen, spc, prc, auc]"
   ]
  },
  {
   "cell_type": "code",
   "execution_count": 22,
   "id": "75e674f8-1d92-4c9a-8881-40d2d5722619",
   "metadata": {},
   "outputs": [
    {
     "data": {
      "text/html": [
       "<div>\n",
       "<style scoped>\n",
       "    .dataframe tbody tr th:only-of-type {\n",
       "        vertical-align: middle;\n",
       "    }\n",
       "\n",
       "    .dataframe tbody tr th {\n",
       "        vertical-align: top;\n",
       "    }\n",
       "\n",
       "    .dataframe thead th {\n",
       "        text-align: right;\n",
       "    }\n",
       "</style>\n",
       "<table border=\"1\" class=\"dataframe\">\n",
       "  <thead>\n",
       "    <tr style=\"text-align: right;\">\n",
       "      <th></th>\n",
       "      <th>acc</th>\n",
       "      <th>sen</th>\n",
       "      <th>spc</th>\n",
       "      <th>prc</th>\n",
       "      <th>auc</th>\n",
       "    </tr>\n",
       "  </thead>\n",
       "  <tbody>\n",
       "    <tr>\n",
       "      <th>0</th>\n",
       "      <td>0.993007</td>\n",
       "      <td>1.000000</td>\n",
       "      <td>0.984127</td>\n",
       "      <td>0.987654</td>\n",
       "      <td>0.999802</td>\n",
       "    </tr>\n",
       "    <tr>\n",
       "      <th>1</th>\n",
       "      <td>0.986014</td>\n",
       "      <td>1.000000</td>\n",
       "      <td>0.971014</td>\n",
       "      <td>0.973684</td>\n",
       "      <td>0.999217</td>\n",
       "    </tr>\n",
       "    <tr>\n",
       "      <th>2</th>\n",
       "      <td>0.965035</td>\n",
       "      <td>0.977528</td>\n",
       "      <td>0.944444</td>\n",
       "      <td>0.966667</td>\n",
       "      <td>0.996879</td>\n",
       "    </tr>\n",
       "    <tr>\n",
       "      <th>3</th>\n",
       "      <td>0.986014</td>\n",
       "      <td>1.000000</td>\n",
       "      <td>0.963636</td>\n",
       "      <td>0.977778</td>\n",
       "      <td>0.990496</td>\n",
       "    </tr>\n",
       "    <tr>\n",
       "      <th>4</th>\n",
       "      <td>0.965035</td>\n",
       "      <td>0.988889</td>\n",
       "      <td>0.924528</td>\n",
       "      <td>0.956989</td>\n",
       "      <td>0.993082</td>\n",
       "    </tr>\n",
       "    <tr>\n",
       "      <th>...</th>\n",
       "      <td>...</td>\n",
       "      <td>...</td>\n",
       "      <td>...</td>\n",
       "      <td>...</td>\n",
       "      <td>...</td>\n",
       "    </tr>\n",
       "    <tr>\n",
       "      <th>95</th>\n",
       "      <td>0.979021</td>\n",
       "      <td>1.000000</td>\n",
       "      <td>0.943396</td>\n",
       "      <td>0.967742</td>\n",
       "      <td>0.992872</td>\n",
       "    </tr>\n",
       "    <tr>\n",
       "      <th>96</th>\n",
       "      <td>0.979021</td>\n",
       "      <td>0.965116</td>\n",
       "      <td>1.000000</td>\n",
       "      <td>1.000000</td>\n",
       "      <td>0.998776</td>\n",
       "    </tr>\n",
       "    <tr>\n",
       "      <th>97</th>\n",
       "      <td>0.986014</td>\n",
       "      <td>0.988889</td>\n",
       "      <td>0.981132</td>\n",
       "      <td>0.988889</td>\n",
       "      <td>0.999161</td>\n",
       "    </tr>\n",
       "    <tr>\n",
       "      <th>98</th>\n",
       "      <td>0.979021</td>\n",
       "      <td>0.988764</td>\n",
       "      <td>0.962963</td>\n",
       "      <td>0.977778</td>\n",
       "      <td>0.997711</td>\n",
       "    </tr>\n",
       "    <tr>\n",
       "      <th>99</th>\n",
       "      <td>0.972028</td>\n",
       "      <td>0.968421</td>\n",
       "      <td>0.979167</td>\n",
       "      <td>0.989247</td>\n",
       "      <td>0.997149</td>\n",
       "    </tr>\n",
       "  </tbody>\n",
       "</table>\n",
       "<p>100 rows × 5 columns</p>\n",
       "</div>"
      ],
      "text/plain": [
       "         acc       sen       spc       prc       auc\n",
       "0   0.993007  1.000000  0.984127  0.987654  0.999802\n",
       "1   0.986014  1.000000  0.971014  0.973684  0.999217\n",
       "2   0.965035  0.977528  0.944444  0.966667  0.996879\n",
       "3   0.986014  1.000000  0.963636  0.977778  0.990496\n",
       "4   0.965035  0.988889  0.924528  0.956989  0.993082\n",
       "..       ...       ...       ...       ...       ...\n",
       "95  0.979021  1.000000  0.943396  0.967742  0.992872\n",
       "96  0.979021  0.965116  1.000000  1.000000  0.998776\n",
       "97  0.986014  0.988889  0.981132  0.988889  0.999161\n",
       "98  0.979021  0.988764  0.962963  0.977778  0.997711\n",
       "99  0.972028  0.968421  0.979167  0.989247  0.997149\n",
       "\n",
       "[100 rows x 5 columns]"
      ]
     },
     "execution_count": 22,
     "metadata": {},
     "output_type": "execute_result"
    }
   ],
   "source": [
    "result_df"
   ]
  },
  {
   "cell_type": "code",
   "execution_count": 23,
   "id": "7f03315b-2a9e-49ca-a08e-2a0948bf82eb",
   "metadata": {},
   "outputs": [
    {
     "data": {
      "text/plain": [
       "acc    0.976993\n",
       "sen    0.989194\n",
       "spc    0.956662\n",
       "prc    0.974487\n",
       "auc    0.995175\n",
       "dtype: float64"
      ]
     },
     "execution_count": 23,
     "metadata": {},
     "output_type": "execute_result"
    }
   ],
   "source": [
    "result_df.mean()"
   ]
  },
  {
   "cell_type": "code",
   "execution_count": 24,
   "id": "fb1b34a1-8936-4cde-8ad1-18adb8d34755",
   "metadata": {},
   "outputs": [
    {
     "data": {
      "text/plain": [
       "acc    0.011214\n",
       "sen    0.011074\n",
       "spc    0.025785\n",
       "prc    0.014653\n",
       "auc    0.004667\n",
       "dtype: float64"
      ]
     },
     "execution_count": 24,
     "metadata": {},
     "output_type": "execute_result"
    }
   ],
   "source": [
    "result_df.std()"
   ]
  },
  {
   "cell_type": "code",
   "execution_count": null,
   "id": "ea32ec73-17a6-423a-9f4b-90756bdfa308",
   "metadata": {},
   "outputs": [],
   "source": []
  }
 ],
 "metadata": {
  "kernelspec": {
   "display_name": "Python 3 (ipykernel)",
   "language": "python",
   "name": "python3"
  },
  "language_info": {
   "codemirror_mode": {
    "name": "ipython",
    "version": 3
   },
   "file_extension": ".py",
   "mimetype": "text/x-python",
   "name": "python",
   "nbconvert_exporter": "python",
   "pygments_lexer": "ipython3",
   "version": "3.11.8"
  }
 },
 "nbformat": 4,
 "nbformat_minor": 5
}
