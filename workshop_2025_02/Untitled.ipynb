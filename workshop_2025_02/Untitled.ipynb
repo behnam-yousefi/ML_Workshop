{
 "cells": [
  {
   "cell_type": "code",
   "execution_count": 1,
   "id": "ea5b28e7-39b1-49d8-bfe2-4f523dd228e7",
   "metadata": {},
   "outputs": [],
   "source": [
    "import pubchempy as pcp\n",
    "from rdkit import Chem\n",
    "from rdkit.Chem import AllChem"
   ]
  },
  {
   "cell_type": "code",
   "execution_count": 22,
   "id": "764b51c4-4504-42a9-af09-6590041365bf",
   "metadata": {},
   "outputs": [
    {
     "data": {
      "text/plain": [
       "Compound(176870)"
      ]
     },
     "execution_count": 22,
     "metadata": {},
     "output_type": "execute_result"
    }
   ],
   "source": [
    "drug_name = 'Erlotinib'\n",
    "compound = pcp.get_compounds(drug_name, 'name')[0]\n",
    "compound"
   ]
  },
  {
   "cell_type": "code",
   "execution_count": 23,
   "id": "67f631c3-4c86-4227-8fe8-ce01cddd3690",
   "metadata": {},
   "outputs": [],
   "source": [
    "smiles = compound.isomeric_smiles"
   ]
  },
  {
   "cell_type": "code",
   "execution_count": 24,
   "id": "700d0a53-4d7a-4a0a-96e3-675411e99ea9",
   "metadata": {},
   "outputs": [
    {
     "data": {
      "text/plain": [
       "'COCCOC1=C(C=C2C(=C1)C(=NC=N2)NC3=CC=CC(=C3)C#C)OCCOC'"
      ]
     },
     "execution_count": 24,
     "metadata": {},
     "output_type": "execute_result"
    }
   ],
   "source": [
    "smiles = compound.canonical_smiles\n",
    "smiles"
   ]
  },
  {
   "cell_type": "code",
   "execution_count": 20,
   "id": "314998f6-72cd-48f4-b9d1-dab3af56b5dc",
   "metadata": {},
   "outputs": [],
   "source": [
    "# compound.fingerprint"
   ]
  },
  {
   "cell_type": "code",
   "execution_count": 21,
   "id": "224ce908-fce3-4243-be09-0af16b84ef44",
   "metadata": {},
   "outputs": [
    {
     "name": "stderr",
     "output_type": "stream",
     "text": [
      "[22:31:19] DEPRECATION WARNING: please use MorganGenerator\n"
     ]
    },
    {
     "data": {
      "text/plain": [
       "[1, 1, 1, 1, 1, 0, 1, 1, 1, 1]"
      ]
     },
     "execution_count": 21,
     "metadata": {},
     "output_type": "execute_result"
    }
   ],
   "source": [
    "mol = Chem.MolFromSmiles(smiles)\n",
    "fingerprint = AllChem.GetMorganFingerprintAsBitVect(mol, 2, nBits=10)\n",
    "list(fingerprint)"
   ]
  },
  {
   "cell_type": "code",
   "execution_count": null,
   "id": "bc28dd37-58f9-42a9-847d-789ca0b03c24",
   "metadata": {},
   "outputs": [],
   "source": []
  }
 ],
 "metadata": {
  "kernelspec": {
   "display_name": "Python 3 (ipykernel)",
   "language": "python",
   "name": "python3"
  },
  "language_info": {
   "codemirror_mode": {
    "name": "ipython",
    "version": 3
   },
   "file_extension": ".py",
   "mimetype": "text/x-python",
   "name": "python",
   "nbconvert_exporter": "python",
   "pygments_lexer": "ipython3",
   "version": "3.11.8"
  }
 },
 "nbformat": 4,
 "nbformat_minor": 5
}
