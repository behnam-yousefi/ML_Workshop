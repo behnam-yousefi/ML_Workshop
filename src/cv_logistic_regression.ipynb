{
 "cells": [
  {
   "cell_type": "code",
   "execution_count": 1,
   "id": "1217302c-e6aa-4da1-81e4-c8f149d50c7b",
   "metadata": {},
   "outputs": [],
   "source": [
    "from sklearn.datasets import load_breast_cancer\n",
    "from sklearn.model_selection import train_test_split\n",
    "from sklearn.linear_model import LogisticRegression\n",
    "from sklearn import metrics\n",
    "import numpy as np\n",
    "import pandas as pd\n",
    "import matplotlib.pyplot as plt"
   ]
  },
  {
   "cell_type": "code",
   "execution_count": 2,
   "id": "db3d148e-5cad-4f72-96d9-d9b257de88d0",
   "metadata": {},
   "outputs": [],
   "source": [
    "def classification_metrics(target, pred):\n",
    "    tn, fp, fn, tp = metrics.confusion_matrix(target, pred).ravel()\n",
    "    acc = (tn + tp) / (tn + fp +fn + tp)\n",
    "    sen = tp / (tp + fn)\n",
    "    spc = tn / (tn + fp)\n",
    "    prc = tp / (tp + fp)\n",
    "    return acc, sen, spc, prc"
   ]
  },
  {
   "cell_type": "code",
   "execution_count": 3,
   "id": "8acf5805-3f2f-4539-8ca8-058f6b94c008",
   "metadata": {},
   "outputs": [],
   "source": [
    "data = load_breast_cancer()\n",
    "X, y = data['data'], data['target']"
   ]
  },
  {
   "cell_type": "code",
   "execution_count": 4,
   "id": "a7db8ca5-8ec1-4023-b104-9acd875e59cb",
   "metadata": {},
   "outputs": [],
   "source": [
    "X_norm = (X - X.mean(axis=0)) / X.std(axis=0)"
   ]
  },
  {
   "cell_type": "code",
   "execution_count": 5,
   "id": "981f8f2a-82c5-43d4-bbf3-08106d06dfb9",
   "metadata": {},
   "outputs": [],
   "source": [
    "n_repeat = 100\n",
    "result_df = pd.DataFrame(columns=['acc', 'sen', 'spc', 'prc', 'auc'])\n",
    "\n",
    "for i in range(n_repeat):\n",
    "    \n",
    "    # Split train and test data\n",
    "    X_train, X_test, y_train, y_test = train_test_split(X_norm, y, test_size=0.2)\n",
    "    \n",
    "    # Train the model\n",
    "    model = LogisticRegression(max_iter = 100)\n",
    "    model.fit(X_train, y_train)\n",
    "    \n",
    "    # Test the model\n",
    "    y_pred = model.predict(X_test)\n",
    "    y_prob = model.predict_proba(X_test)[:,1]\n",
    "    \n",
    "    # Calculate metrics\n",
    "    acc, sen, spc, prc = classification_metrics(y_test, y_pred)\n",
    "    auc = metrics.roc_auc_score(y_test, y_prob)\n",
    "\n",
    "    # Add to the dataframe\n",
    "    result_df.loc[len(result_df)] = [acc, sen, spc, prc, auc]"
   ]
  },
  {
   "cell_type": "code",
   "execution_count": 6,
   "id": "ab4fe59a-dc86-4e08-b7e5-a59eb00a5704",
   "metadata": {},
   "outputs": [
    {
     "data": {
      "text/html": [
       "<div>\n",
       "<style scoped>\n",
       "    .dataframe tbody tr th:only-of-type {\n",
       "        vertical-align: middle;\n",
       "    }\n",
       "\n",
       "    .dataframe tbody tr th {\n",
       "        vertical-align: top;\n",
       "    }\n",
       "\n",
       "    .dataframe thead th {\n",
       "        text-align: right;\n",
       "    }\n",
       "</style>\n",
       "<table border=\"1\" class=\"dataframe\">\n",
       "  <thead>\n",
       "    <tr style=\"text-align: right;\">\n",
       "      <th></th>\n",
       "      <th>acc</th>\n",
       "      <th>sen</th>\n",
       "      <th>spc</th>\n",
       "      <th>prc</th>\n",
       "      <th>auc</th>\n",
       "    </tr>\n",
       "  </thead>\n",
       "  <tbody>\n",
       "    <tr>\n",
       "      <th>0</th>\n",
       "      <td>0.973684</td>\n",
       "      <td>0.986667</td>\n",
       "      <td>0.948718</td>\n",
       "      <td>0.973684</td>\n",
       "      <td>0.995556</td>\n",
       "    </tr>\n",
       "    <tr>\n",
       "      <th>1</th>\n",
       "      <td>0.982456</td>\n",
       "      <td>0.985714</td>\n",
       "      <td>0.977273</td>\n",
       "      <td>0.985714</td>\n",
       "      <td>0.996753</td>\n",
       "    </tr>\n",
       "    <tr>\n",
       "      <th>2</th>\n",
       "      <td>0.991228</td>\n",
       "      <td>1.000000</td>\n",
       "      <td>0.974359</td>\n",
       "      <td>0.986842</td>\n",
       "      <td>0.996581</td>\n",
       "    </tr>\n",
       "    <tr>\n",
       "      <th>3</th>\n",
       "      <td>1.000000</td>\n",
       "      <td>1.000000</td>\n",
       "      <td>1.000000</td>\n",
       "      <td>1.000000</td>\n",
       "      <td>1.000000</td>\n",
       "    </tr>\n",
       "    <tr>\n",
       "      <th>4</th>\n",
       "      <td>0.973684</td>\n",
       "      <td>1.000000</td>\n",
       "      <td>0.931818</td>\n",
       "      <td>0.958904</td>\n",
       "      <td>0.979221</td>\n",
       "    </tr>\n",
       "    <tr>\n",
       "      <th>...</th>\n",
       "      <td>...</td>\n",
       "      <td>...</td>\n",
       "      <td>...</td>\n",
       "      <td>...</td>\n",
       "      <td>...</td>\n",
       "    </tr>\n",
       "    <tr>\n",
       "      <th>95</th>\n",
       "      <td>0.973684</td>\n",
       "      <td>1.000000</td>\n",
       "      <td>0.930233</td>\n",
       "      <td>0.959459</td>\n",
       "      <td>0.984278</td>\n",
       "    </tr>\n",
       "    <tr>\n",
       "      <th>96</th>\n",
       "      <td>0.964912</td>\n",
       "      <td>1.000000</td>\n",
       "      <td>0.902439</td>\n",
       "      <td>0.948052</td>\n",
       "      <td>0.998664</td>\n",
       "    </tr>\n",
       "    <tr>\n",
       "      <th>97</th>\n",
       "      <td>0.947368</td>\n",
       "      <td>0.976190</td>\n",
       "      <td>0.866667</td>\n",
       "      <td>0.953488</td>\n",
       "      <td>0.970635</td>\n",
       "    </tr>\n",
       "    <tr>\n",
       "      <th>98</th>\n",
       "      <td>0.982456</td>\n",
       "      <td>0.987654</td>\n",
       "      <td>0.969697</td>\n",
       "      <td>0.987654</td>\n",
       "      <td>0.998878</td>\n",
       "    </tr>\n",
       "    <tr>\n",
       "      <th>99</th>\n",
       "      <td>0.982456</td>\n",
       "      <td>1.000000</td>\n",
       "      <td>0.960000</td>\n",
       "      <td>0.969697</td>\n",
       "      <td>0.986250</td>\n",
       "    </tr>\n",
       "  </tbody>\n",
       "</table>\n",
       "<p>100 rows × 5 columns</p>\n",
       "</div>"
      ],
      "text/plain": [
       "         acc       sen       spc       prc       auc\n",
       "0   0.973684  0.986667  0.948718  0.973684  0.995556\n",
       "1   0.982456  0.985714  0.977273  0.985714  0.996753\n",
       "2   0.991228  1.000000  0.974359  0.986842  0.996581\n",
       "3   1.000000  1.000000  1.000000  1.000000  1.000000\n",
       "4   0.973684  1.000000  0.931818  0.958904  0.979221\n",
       "..       ...       ...       ...       ...       ...\n",
       "95  0.973684  1.000000  0.930233  0.959459  0.984278\n",
       "96  0.964912  1.000000  0.902439  0.948052  0.998664\n",
       "97  0.947368  0.976190  0.866667  0.953488  0.970635\n",
       "98  0.982456  0.987654  0.969697  0.987654  0.998878\n",
       "99  0.982456  1.000000  0.960000  0.969697  0.986250\n",
       "\n",
       "[100 rows x 5 columns]"
      ]
     },
     "execution_count": 6,
     "metadata": {},
     "output_type": "execute_result"
    }
   ],
   "source": [
    "result_df"
   ]
  },
  {
   "cell_type": "code",
   "execution_count": 7,
   "id": "e8655ed0-52d3-41da-bc7b-1a8ce66b66ad",
   "metadata": {},
   "outputs": [
    {
     "data": {
      "text/plain": [
       "acc    0.978246\n",
       "sen    0.990236\n",
       "spc    0.956986\n",
       "prc    0.976147\n",
       "auc    0.994359\n",
       "dtype: float64"
      ]
     },
     "execution_count": 7,
     "metadata": {},
     "output_type": "execute_result"
    }
   ],
   "source": [
    "result_df.mean()"
   ]
  },
  {
   "cell_type": "code",
   "execution_count": 8,
   "id": "2ecc18e9-252d-41ae-9ce8-f556b39dac38",
   "metadata": {},
   "outputs": [
    {
     "data": {
      "text/plain": [
       "acc    0.013223\n",
       "sen    0.011827\n",
       "spc    0.034779\n",
       "prc    0.018167\n",
       "auc    0.006135\n",
       "dtype: float64"
      ]
     },
     "execution_count": 8,
     "metadata": {},
     "output_type": "execute_result"
    }
   ],
   "source": [
    "result_df.std()"
   ]
  },
  {
   "cell_type": "code",
   "execution_count": 9,
   "id": "0614700a-a6db-4b47-9ff4-15ab51b0dc1e",
   "metadata": {},
   "outputs": [
    {
     "data": {
      "image/png": "[encoded data removed]",
      "text/plain": [
       "<Figure size 500x350 with 1 Axes>"
      ]
     },
     "metadata": {},
     "output_type": "display_data"
    }
   ],
   "source": [
    "x = np.array([\"Accuracy\", \"Sensitivity\", \"Specificity\", \"precision\", \"AUC\"])\n",
    "y = np.array(result_df.mean())\n",
    "s = np.array(result_df.std())\n",
    "\n",
    "fig, ax = plt.subplots(figsize=(5, 3.5)) \n",
    "plt.bar(x, y, width = 0.3, color = 'b')\n",
    "ax.errorbar(x, y, yerr=s, fmt='.', color='r', capsize=5)\n",
    "\n",
    "plt.ylabel(\"Percent (%)\")\n",
    "plt.title(\"Model Performance\")\n",
    "plt.show()"
   ]
  },
  {
   "cell_type": "code",
   "execution_count": null,
   "id": "9da4ba37-187e-4db3-b01e-12e24e61d8d7",
   "metadata": {},
   "outputs": [],
   "source": []
  }
 ],
 "metadata": {
  "kernelspec": {
   "display_name": "Python 3 (ipykernel)",
   "language": "python",
   "name": "python3"
  },
  "language_info": {
   "codemirror_mode": {
    "name": "ipython",
    "version": 3
   },
   "file_extension": ".py",
   "mimetype": "text/x-python",
   "name": "python",
   "nbconvert_exporter": "python",
   "pygments_lexer": "ipython3",
   "version": "3.11.8"
  }
 },
 "nbformat": 4,
 "nbformat_minor": 5
}
