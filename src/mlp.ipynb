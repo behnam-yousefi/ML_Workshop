{
 "cells": [
  {
   "cell_type": "code",
   "execution_count": 1,
   "id": "1217302c-e6aa-4da1-81e4-c8f149d50c7b",
   "metadata": {},
   "outputs": [],
   "source": [
    "from sklearn.datasets import load_breast_cancer\n",
    "from sklearn.model_selection import train_test_split\n",
    "from sklearn import metrics\n",
    "\n",
    "import numpy as np\n",
    "import pandas as pd\n",
    "import matplotlib.pyplot as plt\n",
    "\n",
    "import torch\n",
    "from torch import nn\n",
    "import torch.nn.functional as F"
   ]
  },
  {
   "cell_type": "code",
   "execution_count": 2,
   "id": "db3d148e-5cad-4f72-96d9-d9b257de88d0",
   "metadata": {},
   "outputs": [],
   "source": [
    "def classification_metrics(target, pred):\n",
    "    tn, fp, fn, tp = metrics.confusion_matrix(target, pred).ravel()\n",
    "    acc = (tn + tp) / (tn + fp +fn + tp)\n",
    "    sen = tp / (tp + fn)\n",
    "    spc = tn / (tn + fp)\n",
    "    prc = tp / (tp + fp)\n",
    "    return acc, sen, spc, prc"
   ]
  },
  {
   "cell_type": "code",
   "execution_count": 3,
   "id": "8acf5805-3f2f-4539-8ca8-058f6b94c008",
   "metadata": {},
   "outputs": [],
   "source": [
    "data = load_breast_cancer()\n",
    "X, y = data['data'], data['target']\n",
    "X_norm = (X - X.mean(axis=0)) / X.std(axis=0)"
   ]
  },
  {
   "cell_type": "code",
   "execution_count": 4,
   "id": "37fb2fa4-9512-4e78-aef6-f67fa3fddeed",
   "metadata": {},
   "outputs": [],
   "source": [
    "X_train, X_test, y_train, y_test = train_test_split(X_norm, y, test_size=0.2, random_state=42)"
   ]
  },
  {
   "cell_type": "code",
   "execution_count": 5,
   "id": "b8f09538-6c6c-450f-a675-9c06db37007d",
   "metadata": {},
   "outputs": [
    {
     "data": {
      "text/plain": [
       "(torch.Size([455, 30]), torch.Size([455, 1]))"
      ]
     },
     "execution_count": 5,
     "metadata": {},
     "output_type": "execute_result"
    }
   ],
   "source": [
    "# Make input and output as a torch.tensor object\n",
    "X_train = torch.tensor(X_train, dtype=torch.float32)\n",
    "X_test = torch.tensor(X_test, dtype=torch.float32)\n",
    "y_train = torch.tensor(y_train, dtype=torch.float32).unsqueeze(dim=1)\n",
    "y_test = torch.tensor(y_test, dtype=torch.float32).unsqueeze(dim=1)\n",
    "\n",
    "X_train.shape, y_train.shape"
   ]
  },
  {
   "cell_type": "code",
   "execution_count": 6,
   "id": "7ec74f50-85da-4ad0-b5cd-185471f22070",
   "metadata": {},
   "outputs": [],
   "source": [
    "class MyMLP(nn.Module):\n",
    "    def __init__(self, n_input, n_hidden, n_output):\n",
    "        super().__init__()\n",
    "        self.linear1 = nn.Linear(in_features=n_input, out_features=n_hidden)\n",
    "        self.linear2 = nn.Linear(in_features=n_hidden, out_features=n_output)\n",
    "        self.relu = nn.ReLU()\n",
    "        self.sigmoid = nn.Sigmoid()\n",
    "        \n",
    "    def forward(self, x):\n",
    "        y = self.linear1(x)\n",
    "        y = self.relu(y)\n",
    "        y = self.linear2(y)\n",
    "        y = self.sigmoid(y)\n",
    "        return y\n",
    "    "
   ]
  },
  {
   "cell_type": "code",
   "execution_count": 7,
   "id": "f49b7396-563a-46dd-b007-b6ae2de63700",
   "metadata": {},
   "outputs": [],
   "source": [
    "n_input, n_hidden, n_output = 30, 5, 1\n",
    "model = MyMLP(n_input, n_hidden, n_output)\n",
    "# model.fit()\n",
    "# y_pred = model.predict(X_test)"
   ]
  },
  {
   "cell_type": "code",
   "execution_count": 8,
   "id": "b434709d-7196-4672-8f9e-1588157e5349",
   "metadata": {},
   "outputs": [],
   "source": [
    "# Define loss\n",
    "loss_function = nn.BCELoss()      # for binary classification\n",
    "# loss_function = nn.MSELoss()    # for regression\n",
    "\n",
    "# Define optimizer\n",
    "optimizer = torch.optim.Adam(model.parameters(), lr=0.01)"
   ]
  },
  {
   "cell_type": "code",
   "execution_count": 9,
   "id": "9fbd6d1d-6ca1-4fcb-8d04-2c58ffe8f737",
   "metadata": {},
   "outputs": [
    {
     "name": "stdout",
     "output_type": "stream",
     "text": [
      "Loss = 0.626\n",
      "Loss = 0.179\n",
      "Loss = 0.099\n",
      "Loss = 0.074\n",
      "Loss = 0.060\n",
      "Loss = 0.053\n",
      "Loss = 0.047\n",
      "Loss = 0.043\n",
      "Loss = 0.039\n",
      "Loss = 0.035\n"
     ]
    }
   ],
   "source": [
    "epochs = 200\n",
    "\n",
    "for i in range(epochs):\n",
    "    model.train()                        # Put model in the training mode\n",
    "    optimizer.zero_grad()                # make all graidents zero\n",
    "    y_pred = model(X_train)               # predict output (forward pass)\n",
    "    loss = loss_function(y_pred, y_train) # calculate loss\n",
    "    loss.backward()                      # backpropagation (backward pass)\n",
    "    optimizer.step()                     # update parameters\n",
    "\n",
    "    if i % 20 == 0:\n",
    "        print(f'Loss = {loss.item():.3f}')"
   ]
  },
  {
   "cell_type": "code",
   "execution_count": null,
   "id": "7057ed9f-5935-4388-9913-cbc6543890c9",
   "metadata": {},
   "outputs": [],
   "source": []
  },
  {
   "cell_type": "code",
   "execution_count": 10,
   "id": "49849c9b-5e29-48e1-8daf-6f43f5f1f09a",
   "metadata": {},
   "outputs": [
    {
     "data": {
      "text/plain": [
       "(0.9824561403508771,\n",
       " 0.9859154929577465,\n",
       " 0.9767441860465116,\n",
       " 0.9859154929577465)"
      ]
     },
     "execution_count": 10,
     "metadata": {},
     "output_type": "execute_result"
    }
   ],
   "source": [
    "model.eval()\n",
    "y_pred = model(X_test)\n",
    "y_pred = (y_pred > 0.5).float()\n",
    "\n",
    "classification_metrics(y_test.numpy(), y_pred.detach().numpy())"
   ]
  },
  {
   "cell_type": "code",
   "execution_count": null,
   "id": "1931432a-f3fc-426d-8cd1-00508be45c88",
   "metadata": {},
   "outputs": [],
   "source": []
  },
  {
   "cell_type": "code",
   "execution_count": null,
   "id": "92f43d45-2ce5-4393-a10a-e076be80c544",
   "metadata": {},
   "outputs": [],
   "source": []
  }
 ],
 "metadata": {
  "kernelspec": {
   "display_name": "Python 3 (ipykernel)",
   "language": "python",
   "name": "python3"
  },
  "language_info": {
   "codemirror_mode": {
    "name": "ipython",
    "version": 3
   },
   "file_extension": ".py",
   "mimetype": "text/x-python",
   "name": "python",
   "nbconvert_exporter": "python",
   "pygments_lexer": "ipython3",
   "version": "3.11.8"
  }
 },
 "nbformat": 4,
 "nbformat_minor": 5
}
