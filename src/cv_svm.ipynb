{
 "cells": [
  {
   "cell_type": "code",
   "execution_count": 1,
   "id": "1217302c-e6aa-4da1-81e4-c8f149d50c7b",
   "metadata": {},
   "outputs": [],
   "source": [
    "from sklearn.datasets import load_breast_cancer\n",
    "from sklearn.model_selection import train_test_split\n",
    "from sklearn.svm import SVC\n",
    "from sklearn import metrics\n",
    "import numpy as np\n",
    "import pandas as pd\n",
    "import matplotlib.pyplot as plt"
   ]
  },
  {
   "cell_type": "code",
   "execution_count": 2,
   "id": "db3d148e-5cad-4f72-96d9-d9b257de88d0",
   "metadata": {},
   "outputs": [],
   "source": [
    "def classification_metrics(target, pred):\n",
    "    tn, fp, fn, tp = metrics.confusion_matrix(target, pred).ravel()\n",
    "    acc = (tn + tp) / (tn + fp +fn + tp)\n",
    "    sen = tp / (tp + fn)\n",
    "    spc = tn / (tn + fp)\n",
    "    prc = tp / (tp + fp)\n",
    "    return acc, sen, spc, prc"
   ]
  },
  {
   "cell_type": "code",
   "execution_count": 11,
   "id": "8acf5805-3f2f-4539-8ca8-058f6b94c008",
   "metadata": {},
   "outputs": [],
   "source": [
    "data = load_breast_cancer()\n",
    "X, y = data['data'], data['target']"
   ]
  },
  {
   "cell_type": "code",
   "execution_count": 12,
   "id": "a7db8ca5-8ec1-4023-b104-9acd875e59cb",
   "metadata": {},
   "outputs": [],
   "source": [
    "X_norm = (X - X.mean(axis=0)) / X.std(axis=0)"
   ]
  },
  {
   "cell_type": "code",
   "execution_count": 13,
   "id": "981f8f2a-82c5-43d4-bbf3-08106d06dfb9",
   "metadata": {},
   "outputs": [],
   "source": [
    "n_repeat = 100\n",
    "result_df = pd.DataFrame(columns=['acc', 'sen', 'spc', 'prc'])\n",
    "\n",
    "for i in range(n_repeat):\n",
    "    \n",
    "    # Split train and test data\n",
    "    X_train, X_test, y_train, y_test = train_test_split(X_norm, y, test_size=0.2)\n",
    "    \n",
    "    # Train the model\n",
    "    model = SVC(kernel='rbf')\n",
    "    model.fit(X_train, y_train)\n",
    "    \n",
    "    # Test the model\n",
    "    y_pred = model.predict(X_test)\n",
    "    \n",
    "    # Calculate metrics\n",
    "    acc, sen, spc, prc = classification_metrics(y_test, y_pred)\n",
    "\n",
    "    # Add to the dataframe\n",
    "    result_df.loc[len(result_df)] = [acc, sen, spc, prc]"
   ]
  },
  {
   "cell_type": "code",
   "execution_count": 14,
   "id": "ab4fe59a-dc86-4e08-b7e5-a59eb00a5704",
   "metadata": {},
   "outputs": [
    {
     "data": {
      "text/html": [
       "<div>\n",
       "<style scoped>\n",
       "    .dataframe tbody tr th:only-of-type {\n",
       "        vertical-align: middle;\n",
       "    }\n",
       "\n",
       "    .dataframe tbody tr th {\n",
       "        vertical-align: top;\n",
       "    }\n",
       "\n",
       "    .dataframe thead th {\n",
       "        text-align: right;\n",
       "    }\n",
       "</style>\n",
       "<table border=\"1\" class=\"dataframe\">\n",
       "  <thead>\n",
       "    <tr style=\"text-align: right;\">\n",
       "      <th></th>\n",
       "      <th>acc</th>\n",
       "      <th>sen</th>\n",
       "      <th>spc</th>\n",
       "      <th>prc</th>\n",
       "    </tr>\n",
       "  </thead>\n",
       "  <tbody>\n",
       "    <tr>\n",
       "      <th>0</th>\n",
       "      <td>0.973684</td>\n",
       "      <td>0.971429</td>\n",
       "      <td>0.977273</td>\n",
       "      <td>0.985507</td>\n",
       "    </tr>\n",
       "    <tr>\n",
       "      <th>1</th>\n",
       "      <td>1.000000</td>\n",
       "      <td>1.000000</td>\n",
       "      <td>1.000000</td>\n",
       "      <td>1.000000</td>\n",
       "    </tr>\n",
       "    <tr>\n",
       "      <th>2</th>\n",
       "      <td>0.956140</td>\n",
       "      <td>0.973333</td>\n",
       "      <td>0.923077</td>\n",
       "      <td>0.960526</td>\n",
       "    </tr>\n",
       "    <tr>\n",
       "      <th>3</th>\n",
       "      <td>0.938596</td>\n",
       "      <td>0.956522</td>\n",
       "      <td>0.911111</td>\n",
       "      <td>0.942857</td>\n",
       "    </tr>\n",
       "    <tr>\n",
       "      <th>4</th>\n",
       "      <td>0.964912</td>\n",
       "      <td>0.973333</td>\n",
       "      <td>0.948718</td>\n",
       "      <td>0.973333</td>\n",
       "    </tr>\n",
       "    <tr>\n",
       "      <th>...</th>\n",
       "      <td>...</td>\n",
       "      <td>...</td>\n",
       "      <td>...</td>\n",
       "      <td>...</td>\n",
       "    </tr>\n",
       "    <tr>\n",
       "      <th>95</th>\n",
       "      <td>0.973684</td>\n",
       "      <td>1.000000</td>\n",
       "      <td>0.936170</td>\n",
       "      <td>0.957143</td>\n",
       "    </tr>\n",
       "    <tr>\n",
       "      <th>96</th>\n",
       "      <td>0.956140</td>\n",
       "      <td>0.983051</td>\n",
       "      <td>0.927273</td>\n",
       "      <td>0.935484</td>\n",
       "    </tr>\n",
       "    <tr>\n",
       "      <th>97</th>\n",
       "      <td>0.973684</td>\n",
       "      <td>1.000000</td>\n",
       "      <td>0.928571</td>\n",
       "      <td>0.960000</td>\n",
       "    </tr>\n",
       "    <tr>\n",
       "      <th>98</th>\n",
       "      <td>0.973684</td>\n",
       "      <td>0.975610</td>\n",
       "      <td>0.968750</td>\n",
       "      <td>0.987654</td>\n",
       "    </tr>\n",
       "    <tr>\n",
       "      <th>99</th>\n",
       "      <td>0.982456</td>\n",
       "      <td>1.000000</td>\n",
       "      <td>0.956522</td>\n",
       "      <td>0.971429</td>\n",
       "    </tr>\n",
       "  </tbody>\n",
       "</table>\n",
       "<p>100 rows × 4 columns</p>\n",
       "</div>"
      ],
      "text/plain": [
       "         acc       sen       spc       prc\n",
       "0   0.973684  0.971429  0.977273  0.985507\n",
       "1   1.000000  1.000000  1.000000  1.000000\n",
       "2   0.956140  0.973333  0.923077  0.960526\n",
       "3   0.938596  0.956522  0.911111  0.942857\n",
       "4   0.964912  0.973333  0.948718  0.973333\n",
       "..       ...       ...       ...       ...\n",
       "95  0.973684  1.000000  0.936170  0.957143\n",
       "96  0.956140  0.983051  0.927273  0.935484\n",
       "97  0.973684  1.000000  0.928571  0.960000\n",
       "98  0.973684  0.975610  0.968750  0.987654\n",
       "99  0.982456  1.000000  0.956522  0.971429\n",
       "\n",
       "[100 rows x 4 columns]"
      ]
     },
     "execution_count": 14,
     "metadata": {},
     "output_type": "execute_result"
    }
   ],
   "source": [
    "result_df"
   ]
  },
  {
   "cell_type": "code",
   "execution_count": 15,
   "id": "e8655ed0-52d3-41da-bc7b-1a8ce66b66ad",
   "metadata": {},
   "outputs": [
    {
     "data": {
      "text/plain": [
       "acc    0.974123\n",
       "sen    0.985734\n",
       "spc    0.955075\n",
       "prc    0.973695\n",
       "dtype: float64"
      ]
     },
     "execution_count": 15,
     "metadata": {},
     "output_type": "execute_result"
    }
   ],
   "source": [
    "result_df.mean()"
   ]
  },
  {
   "cell_type": "code",
   "execution_count": 16,
   "id": "2ecc18e9-252d-41ae-9ce8-f556b39dac38",
   "metadata": {},
   "outputs": [
    {
     "data": {
      "text/plain": [
       "acc    0.014181\n",
       "sen    0.013217\n",
       "spc    0.031607\n",
       "prc    0.018561\n",
       "dtype: float64"
      ]
     },
     "execution_count": 16,
     "metadata": {},
     "output_type": "execute_result"
    }
   ],
   "source": [
    "result_df.std()"
   ]
  },
  {
   "cell_type": "code",
   "execution_count": 17,
   "id": "0614700a-a6db-4b47-9ff4-15ab51b0dc1e",
   "metadata": {},
   "outputs": [
    {
     "data": {
      "image/png": "[encoded data removed]",
      "text/plain": [
       "<Figure size 500x350 with 1 Axes>"
      ]
     },
     "metadata": {},
     "output_type": "display_data"
    }
   ],
   "source": [
    "x = np.array([\"Accuracy\", \"Sensitivity\", \"Specificity\", \"precision\"])\n",
    "y = np.array(result_df.mean())\n",
    "s = np.array(result_df.std())\n",
    "\n",
    "fig, ax = plt.subplots(figsize=(5, 3.5)) \n",
    "plt.bar(x, y, width = 0.3, color = 'b')\n",
    "ax.errorbar(x, y, yerr=s, fmt='.', color='r', capsize=5)\n",
    "\n",
    "plt.ylabel(\"Percent (%)\")\n",
    "plt.title(\"Model Performance\")\n",
    "plt.show()"
   ]
  },
  {
   "cell_type": "code",
   "execution_count": null,
   "id": "c45c2876-53d7-4654-90d9-ccb438cd8868",
   "metadata": {},
   "outputs": [],
   "source": []
  }
 ],
 "metadata": {
  "kernelspec": {
   "display_name": "Python 3 (ipykernel)",
   "language": "python",
   "name": "python3"
  },
  "language_info": {
   "codemirror_mode": {
    "name": "ipython",
    "version": 3
   },
   "file_extension": ".py",
   "mimetype": "text/x-python",
   "name": "python",
   "nbconvert_exporter": "python",
   "pygments_lexer": "ipython3",
   "version": "3.11.5"
  }
 },
 "nbformat": 4,
 "nbformat_minor": 5
}
