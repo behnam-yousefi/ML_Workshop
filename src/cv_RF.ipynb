{
 "cells": [
  {
   "cell_type": "code",
   "execution_count": 2,
   "id": "1217302c-e6aa-4da1-81e4-c8f149d50c7b",
   "metadata": {},
   "outputs": [],
   "source": [
    "from sklearn.datasets import load_breast_cancer\n",
    "from sklearn.model_selection import train_test_split\n",
    "from sklearn.ensemble import RandomForestClassifier\n",
    "from sklearn import metrics\n",
    "import numpy as np\n",
    "import pandas as pd\n",
    "import matplotlib.pyplot as plt"
   ]
  },
  {
   "cell_type": "code",
   "execution_count": 3,
   "id": "db3d148e-5cad-4f72-96d9-d9b257de88d0",
   "metadata": {},
   "outputs": [],
   "source": [
    "def classification_metrics(target, pred):\n",
    "    tn, fp, fn, tp = metrics.confusion_matrix(target, pred).ravel()\n",
    "    acc = (tn + tp) / (tn + fp +fn + tp)\n",
    "    sen = tp / (tp + fn)\n",
    "    spc = tn / (tn + fp)\n",
    "    prc = tp / (tp + fp)\n",
    "    return acc, sen, spc, prc"
   ]
  },
  {
   "cell_type": "code",
   "execution_count": 4,
   "id": "8acf5805-3f2f-4539-8ca8-058f6b94c008",
   "metadata": {},
   "outputs": [],
   "source": [
    "data = load_breast_cancer()\n",
    "X, y = data['data'], data['target']"
   ]
  },
  {
   "cell_type": "code",
   "execution_count": 5,
   "id": "a7db8ca5-8ec1-4023-b104-9acd875e59cb",
   "metadata": {},
   "outputs": [],
   "source": [
    "X_norm = (X - X.mean(axis=0)) / X.std(axis=0)"
   ]
  },
  {
   "cell_type": "code",
   "execution_count": 6,
   "id": "981f8f2a-82c5-43d4-bbf3-08106d06dfb9",
   "metadata": {},
   "outputs": [],
   "source": [
    "n_repeat = 100\n",
    "result_df = pd.DataFrame(columns=['acc', 'sen', 'spc', 'prc'])\n",
    "\n",
    "for i in range(n_repeat):\n",
    "    \n",
    "    # Split train and test data\n",
    "    X_train, X_test, y_train, y_test = train_test_split(X_norm, y, test_size=0.2)\n",
    "    \n",
    "    # Train the model\n",
    "    model = RandomForestClassifier()\n",
    "    model.fit(X_train, y_train)\n",
    "    \n",
    "    # Test the model\n",
    "    y_pred = model.predict(X_test)\n",
    "    \n",
    "    # Calculate metrics\n",
    "    acc, sen, spc, prc = classification_metrics(y_test, y_pred)\n",
    "\n",
    "    # Add to the dataframe\n",
    "    result_df.loc[len(result_df)] = [acc, sen, spc, prc]"
   ]
  },
  {
   "cell_type": "code",
   "execution_count": 7,
   "id": "ab4fe59a-dc86-4e08-b7e5-a59eb00a5704",
   "metadata": {},
   "outputs": [
    {
     "data": {
      "text/html": [
       "<div>\n",
       "<style scoped>\n",
       "    .dataframe tbody tr th:only-of-type {\n",
       "        vertical-align: middle;\n",
       "    }\n",
       "\n",
       "    .dataframe tbody tr th {\n",
       "        vertical-align: top;\n",
       "    }\n",
       "\n",
       "    .dataframe thead th {\n",
       "        text-align: right;\n",
       "    }\n",
       "</style>\n",
       "<table border=\"1\" class=\"dataframe\">\n",
       "  <thead>\n",
       "    <tr style=\"text-align: right;\">\n",
       "      <th></th>\n",
       "      <th>acc</th>\n",
       "      <th>sen</th>\n",
       "      <th>spc</th>\n",
       "      <th>prc</th>\n",
       "    </tr>\n",
       "  </thead>\n",
       "  <tbody>\n",
       "    <tr>\n",
       "      <th>0</th>\n",
       "      <td>0.982456</td>\n",
       "      <td>0.974684</td>\n",
       "      <td>1.0</td>\n",
       "      <td>1.0</td>\n",
       "    </tr>\n",
       "  </tbody>\n",
       "</table>\n",
       "</div>"
      ],
      "text/plain": [
       "        acc       sen  spc  prc\n",
       "0  0.982456  0.974684  1.0  1.0"
      ]
     },
     "execution_count": 7,
     "metadata": {},
     "output_type": "execute_result"
    }
   ],
   "source": [
    "result_df"
   ]
  },
  {
   "cell_type": "code",
   "execution_count": 8,
   "id": "e8655ed0-52d3-41da-bc7b-1a8ce66b66ad",
   "metadata": {},
   "outputs": [
    {
     "data": {
      "text/plain": [
       "acc    0.982456\n",
       "sen    0.974684\n",
       "spc    1.000000\n",
       "prc    1.000000\n",
       "dtype: float64"
      ]
     },
     "execution_count": 8,
     "metadata": {},
     "output_type": "execute_result"
    }
   ],
   "source": [
    "result_df.mean()"
   ]
  },
  {
   "cell_type": "code",
   "execution_count": 9,
   "id": "2ecc18e9-252d-41ae-9ce8-f556b39dac38",
   "metadata": {},
   "outputs": [
    {
     "data": {
      "text/plain": [
       "acc   NaN\n",
       "sen   NaN\n",
       "spc   NaN\n",
       "prc   NaN\n",
       "dtype: float64"
      ]
     },
     "execution_count": 9,
     "metadata": {},
     "output_type": "execute_result"
    }
   ],
   "source": [
    "result_df.std()"
   ]
  },
  {
   "cell_type": "code",
   "execution_count": 10,
   "id": "0614700a-a6db-4b47-9ff4-15ab51b0dc1e",
   "metadata": {},
   "outputs": [
    {
     "data": {
      "image/png": "[encoded data removed]",
      "text/plain": [
       "<Figure size 500x350 with 1 Axes>"
      ]
     },
     "metadata": {},
     "output_type": "display_data"
    }
   ],
   "source": [
    "x = np.array([\"Accuracy\", \"Sensitivity\", \"Specificity\", \"precision\"])\n",
    "y = np.array(result_df.mean())\n",
    "s = np.array(result_df.std())\n",
    "\n",
    "fig, ax = plt.subplots(figsize=(5, 3.5)) \n",
    "plt.bar(x, y, width = 0.3, color = 'b')\n",
    "ax.errorbar(x, y, yerr=s, fmt='.', color='r', capsize=5)\n",
    "\n",
    "plt.ylabel(\"Percent (%)\")\n",
    "plt.title(\"Model Performance\")\n",
    "plt.show()"
   ]
  },
  {
   "cell_type": "code",
   "execution_count": 15,
   "id": "c45c2876-53d7-4654-90d9-ccb438cd8868",
   "metadata": {},
   "outputs": [
    {
     "data": {
      "text/plain": [
       "array([0.02218663, 0.01636905, 0.05070025, 0.04429366, 0.00493498,\n",
       "       0.01556567, 0.02065469, 0.14164236, 0.00409556, 0.00628608,\n",
       "       0.02094083, 0.00437923, 0.00594588, 0.02215565, 0.00375124,\n",
       "       0.00468173, 0.01064827, 0.00939591, 0.00443189, 0.00476395,\n",
       "       0.11839161, 0.02027317, 0.14182802, 0.0949893 , 0.01133552,\n",
       "       0.01421723, 0.03155729, 0.1353713 , 0.00823784, 0.00597522])"
      ]
     },
     "execution_count": 15,
     "metadata": {},
     "output_type": "execute_result"
    }
   ],
   "source": [
    "model.feature_importances_"
   ]
  },
  {
   "cell_type": "code",
   "execution_count": 16,
   "id": "28f09602-dbc6-4296-90f6-66f7b9ab9c31",
   "metadata": {},
   "outputs": [],
   "source": [
    "fi = model.feature_importances_"
   ]
  },
  {
   "cell_type": "code",
   "execution_count": 26,
   "id": "78c938fc-3dc6-457e-888d-daa5af494f42",
   "metadata": {},
   "outputs": [
    {
     "data": {
      "text/plain": [
       "array([14,  8, 11, 18, 15, 19,  4, 12, 29,  9, 28, 17, 16, 24, 25,  5,  1,\n",
       "       21,  6, 10, 13,  0, 26,  3,  2, 23, 20, 27,  7, 22])"
      ]
     },
     "execution_count": 26,
     "metadata": {},
     "output_type": "execute_result"
    }
   ],
   "source": [
    "np.argsort(fi)"
   ]
  },
  {
   "cell_type": "code",
   "execution_count": 53,
   "id": "36caa16c-55ef-443e-aad5-3b10b79ffa57",
   "metadata": {},
   "outputs": [
    {
     "data": {
      "text/plain": [
       "array([0.02218663, 0.01636905, 0.05070025, 0.04429366, 0.00493498,\n",
       "       0.01556567, 0.02065469, 0.14164236, 0.00409556, 0.00628608,\n",
       "       0.02094083, 0.00437923, 0.00594588, 0.02215565, 0.00375124,\n",
       "       0.00468173, 0.01064827, 0.00939591, 0.00443189, 0.00476395,\n",
       "       0.11839161, 0.02027317, 0.14182802, 0.0949893 , 0.01133552,\n",
       "       0.01421723, 0.03155729, 0.1353713 , 0.00823784, 0.00597522])"
      ]
     },
     "execution_count": 53,
     "metadata": {},
     "output_type": "execute_result"
    }
   ],
   "source": [
    "fi"
   ]
  },
  {
   "cell_type": "code",
   "execution_count": 66,
   "id": "85e42111-555f-4c2e-8355-24f9733d8604",
   "metadata": {},
   "outputs": [
    {
     "data": {
      "text/plain": [
       "array([22,  7, 27, 20, 23])"
      ]
     },
     "execution_count": 66,
     "metadata": {},
     "output_type": "execute_result"
    }
   ],
   "source": [
    "np.argsort(fi)[-1:-6:-1]"
   ]
  },
  {
   "cell_type": "code",
   "execution_count": 65,
   "id": "2a36263b-a3eb-44af-9080-80ccbf2d8751",
   "metadata": {},
   "outputs": [
    {
     "data": {
      "text/plain": [
       "array([22,  7, 27, 20, 23])"
      ]
     },
     "execution_count": 65,
     "metadata": {},
     "output_type": "execute_result"
    }
   ],
   "source": [
    "np.argsort(-fi)[0:5]"
   ]
  },
  {
   "cell_type": "code",
   "execution_count": null,
   "id": "f6a0860a-a2b2-4cbb-9c93-763fb964d25e",
   "metadata": {},
   "outputs": [],
   "source": []
  }
 ],
 "metadata": {
  "kernelspec": {
   "display_name": "Python 3 (ipykernel)",
   "language": "python",
   "name": "python3"
  },
  "language_info": {
   "codemirror_mode": {
    "name": "ipython",
    "version": 3
   },
   "file_extension": ".py",
   "mimetype": "text/x-python",
   "name": "python",
   "nbconvert_exporter": "python",
   "pygments_lexer": "ipython3",
   "version": "3.11.8"
  }
 },
 "nbformat": 4,
 "nbformat_minor": 5
}
