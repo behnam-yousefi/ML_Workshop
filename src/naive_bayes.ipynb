{
 "cells": [
  {
   "cell_type": "code",
   "execution_count": 1,
   "id": "1217302c-e6aa-4da1-81e4-c8f149d50c7b",
   "metadata": {},
   "outputs": [],
   "source": [
    "from sklearn.datasets import load_breast_cancer\n",
    "from sklearn.model_selection import train_test_split\n",
    "from sklearn.naive_bayes import GaussianNB\n",
    "import numpy as np"
   ]
  },
  {
   "cell_type": "code",
   "execution_count": 2,
   "id": "8acf5805-3f2f-4539-8ca8-058f6b94c008",
   "metadata": {},
   "outputs": [],
   "source": [
    "data = load_breast_cancer()\n",
    "X, y = data['data'], data['target']"
   ]
  },
  {
   "cell_type": "code",
   "execution_count": 3,
   "id": "d4c9f849-9e51-43f6-ae8f-19de0df88569",
   "metadata": {},
   "outputs": [
    {
     "data": {
      "text/plain": [
       "((569, 30), (569,))"
      ]
     },
     "execution_count": 3,
     "metadata": {},
     "output_type": "execute_result"
    }
   ],
   "source": [
    "X.shape, y.shape"
   ]
  },
  {
   "cell_type": "code",
   "execution_count": 4,
   "id": "981f8f2a-82c5-43d4-bbf3-08106d06dfb9",
   "metadata": {},
   "outputs": [],
   "source": [
    "X_train, X_test, y_train, y_test = train_test_split(X, y, test_size=0.2)"
   ]
  },
  {
   "cell_type": "code",
   "execution_count": 5,
   "id": "b1c17ca7-184d-426d-a570-1d878184ec29",
   "metadata": {},
   "outputs": [
    {
     "name": "stdout",
     "output_type": "stream",
     "text": [
      "The model is trained!\n"
     ]
    }
   ],
   "source": [
    "model = GaussianNB()\n",
    "model.fit(X_train, y_train)\n",
    "print('The model is trained!')"
   ]
  },
  {
   "cell_type": "code",
   "execution_count": 6,
   "id": "df371207-3515-4d22-b063-3b734d2695db",
   "metadata": {},
   "outputs": [],
   "source": [
    "y_pred = model.predict(X_test)"
   ]
  },
  {
   "cell_type": "code",
   "execution_count": 7,
   "id": "2c485e46-da00-47d4-9148-cfe234abb779",
   "metadata": {},
   "outputs": [
    {
     "data": {
      "text/plain": [
       "(array([1, 1, 1, 0, 0, 1, 1, 0, 1, 0, 1, 1, 0, 0, 1, 1, 0, 0, 0, 1, 0, 1,\n",
       "        0, 1, 0, 0, 0, 1, 0, 1, 1, 1, 1, 1, 0, 0, 1, 0, 1, 1, 1, 1, 0, 1,\n",
       "        0, 1, 1, 1, 1, 0, 1, 1, 1, 0, 0, 1, 0, 1, 0, 1, 1, 0, 0, 1, 1, 1,\n",
       "        1, 0, 1, 0, 1, 0, 1, 1, 0, 0, 0, 1, 1, 1, 1, 1, 1, 0, 1, 0, 1, 0,\n",
       "        1, 1, 1, 1, 1, 1, 0, 1, 1, 1, 1, 0, 0, 1, 1, 1, 1, 0, 1, 1, 0, 0,\n",
       "        1, 1, 1, 0]),\n",
       " array([1, 1, 1, 0, 0, 1, 1, 0, 1, 0, 1, 1, 0, 0, 1, 0, 1, 0, 0, 1, 0, 1,\n",
       "        0, 1, 0, 0, 0, 1, 1, 1, 1, 1, 1, 1, 0, 0, 1, 0, 1, 1, 1, 1, 0, 1,\n",
       "        0, 1, 1, 1, 1, 0, 1, 1, 0, 0, 0, 1, 0, 1, 0, 1, 1, 0, 0, 1, 1, 1,\n",
       "        1, 0, 1, 0, 1, 0, 1, 1, 0, 0, 0, 1, 1, 1, 1, 1, 1, 0, 1, 0, 1, 0,\n",
       "        1, 1, 1, 1, 1, 1, 0, 1, 0, 1, 1, 0, 0, 1, 1, 1, 1, 0, 1, 0, 1, 0,\n",
       "        1, 1, 1, 0]))"
      ]
     },
     "execution_count": 7,
     "metadata": {},
     "output_type": "execute_result"
    }
   ],
   "source": [
    "y_pred, y_test"
   ]
  },
  {
   "cell_type": "code",
   "execution_count": 8,
   "id": "78fbb9da-cc0f-4662-89e9-68fdba1f1ffd",
   "metadata": {},
   "outputs": [],
   "source": [
    "from sklearn import metrics\n",
    "def classification_metrics(target, pred):\n",
    "    tn, fp, fn, tp = metrics.confusion_matrix(target, pred).ravel()\n",
    "    acc = (tn + tp) / (tn + fp +fn + tp)\n",
    "    sen = tp / (tp + fn)\n",
    "    spc = tn / (tn + fp)\n",
    "    prc = tp / (tp + fp)\n",
    "    return acc, sen, spc, prc"
   ]
  },
  {
   "cell_type": "code",
   "execution_count": 9,
   "id": "f6acf71b-7bf6-4666-9f5c-b08675d498e9",
   "metadata": {},
   "outputs": [
    {
     "data": {
      "text/plain": [
       "(0.9385964912280702,\n",
       " 0.9571428571428572,\n",
       " 0.9090909090909091,\n",
       " 0.9436619718309859)"
      ]
     },
     "execution_count": 9,
     "metadata": {},
     "output_type": "execute_result"
    }
   ],
   "source": [
    "classification_metrics(y_test, y_pred)"
   ]
  },
  {
   "cell_type": "code",
   "execution_count": 10,
   "id": "077be396-714f-42df-b406-13d4976c4449",
   "metadata": {},
   "outputs": [
    {
     "data": {
      "text/plain": [
       "array([0.36923077, 0.63076923])"
      ]
     },
     "execution_count": 10,
     "metadata": {},
     "output_type": "execute_result"
    }
   ],
   "source": [
    "model.class_prior_"
   ]
  },
  {
   "cell_type": "code",
   "execution_count": 16,
   "id": "11022a33-79ce-44df-966e-62ef55600e39",
   "metadata": {},
   "outputs": [
    {
     "data": {
      "text/plain": [
       "array([1.00000000e+000, 1.00000000e+000, 1.00000000e+000, 6.12366888e-040,\n",
       "       1.67031420e-008, 1.00000000e+000, 9.99999996e-001, 8.55052860e-049,\n",
       "       1.00000000e+000, 5.60854811e-018, 9.99999756e-001, 1.00000000e+000,\n",
       "       3.29314368e-050, 6.33988573e-008, 1.00000000e+000, 9.86302668e-001,\n",
       "       3.17616427e-001, 5.34995471e-019, 1.28089906e-007, 1.00000000e+000,\n",
       "       2.04706311e-008, 9.99966842e-001, 4.59977712e-006, 1.00000000e+000,\n",
       "       1.52164512e-041, 9.36429210e-078, 1.60152771e-020, 1.00000000e+000,\n",
       "       4.33445941e-002, 1.00000000e+000, 1.00000000e+000, 1.00000000e+000,\n",
       "       1.00000000e+000, 1.00000000e+000, 1.23276862e-054, 2.67078775e-038,\n",
       "       9.99999776e-001, 4.03848336e-228, 1.00000000e+000, 9.99999983e-001,\n",
       "       9.99999994e-001, 9.99999643e-001, 9.07870790e-014, 1.00000000e+000,\n",
       "       2.72867974e-100, 9.84895213e-001, 1.00000000e+000, 1.00000000e+000,\n",
       "       1.00000000e+000, 1.72555134e-019, 1.00000000e+000, 1.00000000e+000,\n",
       "       9.99971225e-001, 2.99797654e-027, 2.19219767e-004, 1.00000000e+000,\n",
       "       1.79142237e-045, 9.99999999e-001, 6.33616766e-109, 1.00000000e+000,\n",
       "       1.00000000e+000, 4.32502435e-028, 1.02629318e-061, 1.00000000e+000,\n",
       "       1.00000000e+000, 1.00000000e+000, 9.99999999e-001, 1.25385425e-060,\n",
       "       1.00000000e+000, 3.31056597e-028, 1.00000000e+000, 1.23087918e-048,\n",
       "       1.00000000e+000, 1.00000000e+000, 2.42745123e-002, 2.19519926e-053,\n",
       "       2.74465829e-090, 1.00000000e+000, 1.00000000e+000, 1.00000000e+000,\n",
       "       1.00000000e+000, 1.00000000e+000, 1.00000000e+000, 6.97103494e-029,\n",
       "       1.00000000e+000, 5.37956276e-023, 1.00000000e+000, 3.26870412e-034,\n",
       "       1.00000000e+000, 1.00000000e+000, 1.00000000e+000, 1.00000000e+000,\n",
       "       9.99999999e-001, 1.00000000e+000, 1.54212757e-038, 8.96967410e-001,\n",
       "       9.99995149e-001, 1.00000000e+000, 9.99999895e-001, 6.34913379e-007,\n",
       "       2.56629339e-013, 1.00000000e+000, 1.00000000e+000, 1.00000000e+000,\n",
       "       1.00000000e+000, 2.34938461e-264, 1.00000000e+000, 9.99972502e-001,\n",
       "       1.34584899e-006, 0.00000000e+000, 1.00000000e+000, 1.00000000e+000,\n",
       "       1.00000000e+000, 1.19060995e-013])"
      ]
     },
     "execution_count": 16,
     "metadata": {},
     "output_type": "execute_result"
    }
   ],
   "source": [
    "prob = model.predict_proba(X_test)[:,1]\n"
   ]
  },
  {
   "cell_type": "code",
   "execution_count": 17,
   "id": "8be8c54c-361a-4b48-aca2-c1e8db5b31dd",
   "metadata": {},
   "outputs": [],
   "source": [
    "from sklearn import metrics"
   ]
  },
  {
   "cell_type": "code",
   "execution_count": 18,
   "id": "a00e6834-3e00-4735-a8b5-0685a0c5dfb5",
   "metadata": {},
   "outputs": [
    {
     "data": {
      "text/plain": [
       "0.9915584415584415"
      ]
     },
     "execution_count": 18,
     "metadata": {},
     "output_type": "execute_result"
    }
   ],
   "source": [
    "metrics.roc_auc_score(y_test, prob)"
   ]
  },
  {
   "cell_type": "code",
   "execution_count": null,
   "id": "84ca4887-76f0-4510-8079-1af65eebddf6",
   "metadata": {},
   "outputs": [],
   "source": []
  }
 ],
 "metadata": {
  "kernelspec": {
   "display_name": "Python 3 (ipykernel)",
   "language": "python",
   "name": "python3"
  },
  "language_info": {
   "codemirror_mode": {
    "name": "ipython",
    "version": 3
   },
   "file_extension": ".py",
   "mimetype": "text/x-python",
   "name": "python",
   "nbconvert_exporter": "python",
   "pygments_lexer": "ipython3",
   "version": "3.11.8"
  }
 },
 "nbformat": 4,
 "nbformat_minor": 5
}
